{
 "cells": [
  {
   "cell_type": "markdown",
   "metadata": {},
   "source": [
    "# Seattle Airbnb Data Analysis\n",
    "\n",
    "This repository contains a comprehensive analysis of the [Seattle Airbnb\n",
    "dataset](https://www.kaggle.com/datasets/airbnb/seattle/data), conducted using\n",
    "the [CRoss Industry Standard Process for Data Mining -\n",
    "CRISP-DM](https://en.wikipedia.org/wiki/Cross-industry_standard_process_for_data_mining)\n",
    "methodology. \n",
    "\n",
    "The dataset includes detailed information about Airbnb listings, daily\n",
    "availability, pricing, and user reviews in Seattle. The analysis aims to uncover\n",
    "patterns and insights related to occupancy rates, pricing trends, and customer\n",
    "satisfaction.\n",
    "\n",
    "CRISP-DM methodology is consisted of the following steps:\n",
    "\n",
    "1. Business Understanding\n",
    "2. Data Understanding\n",
    "3. Data Preparation\n",
    "4. Data Modeling\n",
    "5. Result Evaluation\n",
    "6. Deployment\n",
    "\n",
    "# 1. Business Understanding\n",
    "\n",
    "*Objective: Understand the business objectives and requirements that motivate\n",
    "data analysis.*\n",
    "\n",
    "What is expected to be achieved with the analysis of the **Airbnb dataset in\n",
    "Seattle**? Some possible objectives may be:\n",
    "\n",
    "- **Q1. Identify temporal patterns in reserves and prices.**\n",
    "- **Q2. Determine factors that influence property prices.**\n",
    "- **Q3. Evaluate customer satisfaction based on reviews.**"
   ]
  },
  {
   "cell_type": "markdown",
   "metadata": {},
   "source": [
    "# 2. Data Understanding\n",
    "\n",
    "*Objective: Become familiar with the available data and evaluate its quality.*\n",
    "\n",
    "## 2.1 Import libraries"
   ]
  },
  {
   "cell_type": "code",
   "execution_count": 1,
   "metadata": {},
   "outputs": [
    {
     "name": "stderr",
     "output_type": "stream",
     "text": [
      "[nltk_data] Downloading package punkt to /Users/mafda/nltk_data...\n",
      "[nltk_data]   Package punkt is already up-to-date!\n",
      "[nltk_data] Downloading package stopwords to /Users/mafda/nltk_data...\n",
      "[nltk_data]   Package stopwords is already up-to-date!\n",
      "[nltk_data] Downloading package vader_lexicon to\n",
      "[nltk_data]     /Users/mafda/nltk_data...\n",
      "[nltk_data]   Package vader_lexicon is already up-to-date!\n"
     ]
    },
    {
     "data": {
      "text/plain": [
       "True"
      ]
     },
     "execution_count": 1,
     "metadata": {},
     "output_type": "execute_result"
    }
   ],
   "source": [
    "import string\n",
    "import warnings\n",
    "from collections import Counter\n",
    "\n",
    "import matplotlib.pyplot as plt\n",
    "import nltk\n",
    "import pandas as pd\n",
    "import seaborn as sns\n",
    "from nltk.corpus import stopwords\n",
    "from nltk.sentiment.vader import SentimentIntensityAnalyzer\n",
    "from nltk.tokenize import word_tokenize\n",
    "from sklearn.linear_model import LinearRegression\n",
    "from sklearn.metrics import mean_absolute_error, mean_squared_error, r2_score\n",
    "from sklearn.model_selection import train_test_split\n",
    "\n",
    "warnings.simplefilter(action='ignore', category=FutureWarning)\n",
    "nltk.download('punkt')\n",
    "nltk.download('stopwords')\n",
    "nltk.download('vader_lexicon')\n"
   ]
  },
  {
   "cell_type": "markdown",
   "metadata": {},
   "source": [
    "### Some functions"
   ]
  },
  {
   "cell_type": "code",
   "execution_count": 2,
   "metadata": {},
   "outputs": [],
   "source": [
    "def read_dataset(csv_file):\n",
    "    \"\"\"\n",
    "    Reads a CSV file into a DataFrame and prints its shape.\n",
    "    \n",
    "    Parameters:\n",
    "    csv_file (str): The path to the CSV file.\n",
    "    \n",
    "    Returns:\n",
    "    DataFrame: The loaded DataFrame.\n",
    "    \"\"\"\n",
    "    df = pd.read_csv(csv_file)\n",
    "    print(\"Number of rows and columns: \", df.shape)\n",
    "    return df\n",
    "\n",
    "\n",
    "def get_null_col(df):\n",
    "    \"\"\"\n",
    "    Identifies columns with null values and returns a DataFrame with the counts \n",
    "    and percentages of nulls.\n",
    "    \n",
    "    Parameters:\n",
    "    df (DataFrame): The input DataFrame.\n",
    "    \n",
    "    Returns:\n",
    "    DataFrame: A DataFrame with the counts and percentages of null values per \n",
    "    column. Returns None if no columns have null values.\n",
    "    \"\"\"\n",
    "    # Get null values and the percentage\n",
    "    pd.set_option(\"display.precision\", 2)\n",
    "    null_col = df.columns[df.isna().sum() > 0]\n",
    "    col_null_val = df[null_col].isna().sum().sort_values(ascending=False)\n",
    "    per_null_val = (df[null_col].isna().sum() / df.shape[0] * 100).sort_values(\n",
    "        ascending=False\n",
    "    )\n",
    "    # Create a dataframe with results per column\n",
    "    if len(col_null_val) > 0:\n",
    "        nulls_df = pd.DataFrame(col_null_val, columns=[\"#\"])\n",
    "        nulls_df[\"%\"] = per_null_val\n",
    "        print(\"Number of columns with missing data:\", nulls_df.shape[0])\n",
    "        return nulls_df\n",
    "    else:\n",
    "        print(\"No missing data\")\n",
    "\n",
    "\n",
    "def drop_cols(df):\n",
    "    \"\"\"\n",
    "    Cleans the DataFrame by dropping columns with more than 50% null values,\n",
    "    columns with a single unique value, and duplicate columns.\n",
    "\n",
    "    Parameters:\n",
    "    df (DataFrame): The input DataFrame.\n",
    "\n",
    "    Returns:\n",
    "    DataFrame: The cleaned DataFrame.\n",
    "    \"\"\"\n",
    "    # Identify columns with more than 50% null values\n",
    "    null_percentage = df.isnull().mean() * 100\n",
    "    columns_to_drop = null_percentage[null_percentage > 50].index\n",
    "    print(\"Columns with more than 50% null values:\", len(columns_to_drop))\n",
    "\n",
    "    if len(columns_to_drop) > 0:\n",
    "        df = df.drop(columns=columns_to_drop, axis=1)\n",
    "        print(\"Drop columns:\", columns_to_drop)\n",
    "\n",
    "    # Identify columns with a single value\n",
    "    unique_value_columns = [\n",
    "        col for col in df.columns if df[col].nunique() == 1\n",
    "    ]\n",
    "    print(\"Columns with a unique value:\", len(unique_value_columns))\n",
    "\n",
    "    if len(unique_value_columns) > 0:\n",
    "        df = df.drop(columns=unique_value_columns, axis=1)\n",
    "        print(\"Drop columns:\", unique_value_columns)\n",
    "\n",
    "    # Drop duplicate column\n",
    "    duplicated_columns = set()\n",
    "    for i in range(len(df.columns)):\n",
    "        col1 = df.columns[i]\n",
    "        for j in range(i + 1, len(df.columns)):\n",
    "            col2 = df.columns[j]\n",
    "            if df[col1].equals(df[col2]):\n",
    "                duplicated_columns.add(col2)\n",
    "    print(\"Duplicate column:\", len(duplicated_columns))\n",
    "\n",
    "    if len(duplicated_columns) > 0:\n",
    "        df = df.drop(columns=duplicated_columns, axis=1)\n",
    "\n",
    "    print(\"Data cleaned:\", df.shape)\n",
    "\n",
    "    return df\n",
    "\n",
    "\n",
    "def drop_rows(df, rows):\n",
    "    \"\"\"\n",
    "    Drops rows from the DataFrame where columns have less than a specified \n",
    "    number of null values.\n",
    "\n",
    "    Parameters:\n",
    "    df (DataFrame): The input DataFrame.\n",
    "    rows (int): The threshold number of null values.\n",
    "\n",
    "    Returns:\n",
    "    DataFrame: The cleaned DataFrame.\n",
    "    \"\"\"\n",
    "    # Show the number of null values ​​in each column\n",
    "    null_counts = df.isnull().sum()\n",
    "    drop_column = []\n",
    "\n",
    "    # Check if any column has less than # rows with null values\n",
    "    for column in df.columns:\n",
    "        if null_counts[column] < rows and null_counts[column] > 0:\n",
    "            # Delete rows with null values ​​in that column\n",
    "            df.dropna(subset=column, axis=0, inplace=True)\n",
    "            drop_column.append(column)\n",
    "\n",
    "    print(f\"Rows with less than {rows} null values:\", len(drop_column))\n",
    "    print(drop_column)\n",
    "    print(\"Data cleaned:\", df.shape)\n",
    "\n",
    "    return df\n",
    "\n",
    "\n",
    "def remove_symbol(df, symbol, cols):\n",
    "    \"\"\"\n",
    "    Removes a specified symbol from columns and formats the columns as float.\n",
    "\n",
    "    Parameters:\n",
    "    df (DataFrame): The input DataFrame.\n",
    "    symbol (str): The symbol to remove.\n",
    "    cols (list): List of column names to format.\n",
    "\n",
    "    Returns:\n",
    "    None\n",
    "    \"\"\"\n",
    "    for col in cols:\n",
    "        df[col] = (\n",
    "            df[col]\n",
    "            .astype(str)\n",
    "            .str.replace(symbol, \"\")\n",
    "            .str.replace(\",\", \"\")\n",
    "            .astype(\"float32\")\n",
    "        )\n",
    "\n",
    "\n",
    "def transform_datetime(df, columns):\n",
    "    \"\"\"\n",
    "    Converts specified columns to datetime type.\n",
    "\n",
    "    Parameters:\n",
    "    df (DataFrame): The input DataFrame.\n",
    "    columns (list): List of column names to convert.\n",
    "\n",
    "    Returns:\n",
    "    None\n",
    "    \"\"\"\n",
    "    for col in columns:\n",
    "        df[col] = pd.to_datetime(df[col], errors=\"coerce\")\n",
    "\n",
    "\n",
    "def transform_bool(df, columns):\n",
    "    \"\"\"\n",
    "    Transforms specified boolean columns from 't'/'f' to True/False.\n",
    "\n",
    "    Parameters:\n",
    "    df (DataFrame): The input DataFrame.\n",
    "    columns (list): List of column names to transform.\n",
    "\n",
    "    Returns:\n",
    "    None\n",
    "    \"\"\"\n",
    "    for col in columns:\n",
    "        df[col] = df[col].map({\"t\": 1, \"f\": 0}).astype(\"bool\")\n",
    "\n",
    "\n",
    "def mean_missing_values(df, columns):\n",
    "    \"\"\"\n",
    "    Fills missing values in specified numerical columns with the mean of the \n",
    "    column.\n",
    "\n",
    "    Parameters:\n",
    "    df (DataFrame): The input DataFrame.\n",
    "    columns (list): List of numerical column names to fill missing values.\n",
    "\n",
    "    Returns:\n",
    "    None\n",
    "    \"\"\"\n",
    "    for col in columns:\n",
    "        df[col].fillna(df[col].mean(), inplace=True)\n",
    "\n",
    "\n",
    "def mode_missing_values(df, columns):\n",
    "    \"\"\"\n",
    "    Fills missing values in specified categorical columns with the mode of the \n",
    "    column.\n",
    "\n",
    "    Parameters:\n",
    "    df (DataFrame): The input DataFrame.\n",
    "    columns (list): List of categorical column names to fill missing values.\n",
    "\n",
    "    Returns:\n",
    "    None\n",
    "    \"\"\"\n",
    "    for col in columns:\n",
    "        df[col].fillna(df[col].mode()[0], inplace=True)\n",
    "\n",
    "\n",
    "def clean_text(text):\n",
    "    \"\"\"\n",
    "    Cleans text by converting to lowercase, removing punctuation, and removing \n",
    "    stopwords.\n",
    "\n",
    "    Parameters:\n",
    "    text (str): The input text to clean.\n",
    "\n",
    "    Returns:\n",
    "    str: The cleaned text.\n",
    "    \"\"\"\n",
    "    text = text.lower()\n",
    "    text = text.translate(str.maketrans(\"\", \"\", string.punctuation))\n",
    "    stop_words = set(stopwords.words(\"english\"))\n",
    "    words = word_tokenize(text)\n",
    "    text = \" \".join([word for word in words if word not in stop_words])\n",
    "    return text\n",
    "\n",
    "\n",
    "def get_sentiment_vader(text):\n",
    "    \"\"\"\n",
    "    Analyzes sentiment of text using VADER and returns the compound sentiment \n",
    "    score.\n",
    "\n",
    "    Parameters:\n",
    "    text (str): The input text to analyze.\n",
    "\n",
    "    Returns:\n",
    "    float: The compound sentiment score.\n",
    "    \"\"\"\n",
    "    sia = SentimentIntensityAnalyzer()\n",
    "    scores = sia.polarity_scores(text)\n",
    "    return scores[\"compound\"]\n",
    "\n",
    "\n",
    "def feeling_comments(df, feeling, samples):\n",
    "    \"\"\"\n",
    "    Prints random comments from a DataFrame based on specified sentiment \n",
    "    category.\n",
    "\n",
    "    Parameters:\n",
    "    df (DataFrame): The input DataFrame containing comments and sentiment \n",
    "    categories.\n",
    "    feeling (str): The sentiment category to filter comments by.\n",
    "    samples (int): The number of random comments to print.\n",
    "\n",
    "    Returns:\n",
    "    None\n",
    "    \"\"\"\n",
    "    print(f\"Random comments with {feeling} sentiment:\")\n",
    "    sample_comments = (\n",
    "        df.loc[df[\"sentiment_category_vader\"] == feeling, [\"comments\"]]\n",
    "        .sample(samples)\n",
    "        .values\n",
    "    )\n",
    "    for comment in sample_comments:\n",
    "        print(\"* \" + comment[0])\n"
   ]
  },
  {
   "cell_type": "markdown",
   "metadata": {},
   "source": [
    "## 2.2 Load datasets\n",
    "\n",
    "### Calendar Dataset"
   ]
  },
  {
   "cell_type": "code",
   "execution_count": 3,
   "metadata": {},
   "outputs": [
    {
     "name": "stdout",
     "output_type": "stream",
     "text": [
      "Number of rows and columns:  (1393570, 4)\n"
     ]
    },
    {
     "data": {
      "text/html": [
       "<div>\n",
       "<style scoped>\n",
       "    .dataframe tbody tr th:only-of-type {\n",
       "        vertical-align: middle;\n",
       "    }\n",
       "\n",
       "    .dataframe tbody tr th {\n",
       "        vertical-align: top;\n",
       "    }\n",
       "\n",
       "    .dataframe thead th {\n",
       "        text-align: right;\n",
       "    }\n",
       "</style>\n",
       "<table border=\"1\" class=\"dataframe\">\n",
       "  <thead>\n",
       "    <tr style=\"text-align: right;\">\n",
       "      <th></th>\n",
       "      <th>listing_id</th>\n",
       "      <th>date</th>\n",
       "      <th>available</th>\n",
       "      <th>price</th>\n",
       "    </tr>\n",
       "  </thead>\n",
       "  <tbody>\n",
       "    <tr>\n",
       "      <th>0</th>\n",
       "      <td>241032</td>\n",
       "      <td>2016-01-04</td>\n",
       "      <td>t</td>\n",
       "      <td>$85.00</td>\n",
       "    </tr>\n",
       "    <tr>\n",
       "      <th>1</th>\n",
       "      <td>241032</td>\n",
       "      <td>2016-01-05</td>\n",
       "      <td>t</td>\n",
       "      <td>$85.00</td>\n",
       "    </tr>\n",
       "  </tbody>\n",
       "</table>\n",
       "</div>"
      ],
      "text/plain": [
       "   listing_id        date available   price\n",
       "0      241032  2016-01-04         t  $85.00\n",
       "1      241032  2016-01-05         t  $85.00"
      ]
     },
     "execution_count": 3,
     "metadata": {},
     "output_type": "execute_result"
    }
   ],
   "source": [
    "df_calendar = read_dataset('../data/calendar.csv')\n",
    "df_calendar.head(2)"
   ]
  },
  {
   "cell_type": "code",
   "execution_count": 4,
   "metadata": {},
   "outputs": [
    {
     "name": "stdout",
     "output_type": "stream",
     "text": [
      "Number of columns with missing data: 1\n"
     ]
    },
    {
     "data": {
      "text/html": [
       "<div>\n",
       "<style scoped>\n",
       "    .dataframe tbody tr th:only-of-type {\n",
       "        vertical-align: middle;\n",
       "    }\n",
       "\n",
       "    .dataframe tbody tr th {\n",
       "        vertical-align: top;\n",
       "    }\n",
       "\n",
       "    .dataframe thead th {\n",
       "        text-align: right;\n",
       "    }\n",
       "</style>\n",
       "<table border=\"1\" class=\"dataframe\">\n",
       "  <thead>\n",
       "    <tr style=\"text-align: right;\">\n",
       "      <th></th>\n",
       "      <th>#</th>\n",
       "      <th>%</th>\n",
       "    </tr>\n",
       "  </thead>\n",
       "  <tbody>\n",
       "    <tr>\n",
       "      <th>price</th>\n",
       "      <td>459028</td>\n",
       "      <td>32.94</td>\n",
       "    </tr>\n",
       "  </tbody>\n",
       "</table>\n",
       "</div>"
      ],
      "text/plain": [
       "            #      %\n",
       "price  459028  32.94"
      ]
     },
     "execution_count": 4,
     "metadata": {},
     "output_type": "execute_result"
    }
   ],
   "source": [
    "get_null_col(df_calendar)"
   ]
  },
  {
   "cell_type": "markdown",
   "metadata": {},
   "source": [
    "### Listings Dataset"
   ]
  },
  {
   "cell_type": "code",
   "execution_count": 5,
   "metadata": {},
   "outputs": [
    {
     "name": "stdout",
     "output_type": "stream",
     "text": [
      "Number of rows and columns:  (3818, 92)\n"
     ]
    },
    {
     "data": {
      "text/html": [
       "<div>\n",
       "<style scoped>\n",
       "    .dataframe tbody tr th:only-of-type {\n",
       "        vertical-align: middle;\n",
       "    }\n",
       "\n",
       "    .dataframe tbody tr th {\n",
       "        vertical-align: top;\n",
       "    }\n",
       "\n",
       "    .dataframe thead th {\n",
       "        text-align: right;\n",
       "    }\n",
       "</style>\n",
       "<table border=\"1\" class=\"dataframe\">\n",
       "  <thead>\n",
       "    <tr style=\"text-align: right;\">\n",
       "      <th></th>\n",
       "      <th>id</th>\n",
       "      <th>listing_url</th>\n",
       "      <th>scrape_id</th>\n",
       "      <th>last_scraped</th>\n",
       "      <th>name</th>\n",
       "      <th>summary</th>\n",
       "      <th>space</th>\n",
       "      <th>description</th>\n",
       "      <th>experiences_offered</th>\n",
       "      <th>neighborhood_overview</th>\n",
       "      <th>...</th>\n",
       "      <th>review_scores_value</th>\n",
       "      <th>requires_license</th>\n",
       "      <th>license</th>\n",
       "      <th>jurisdiction_names</th>\n",
       "      <th>instant_bookable</th>\n",
       "      <th>cancellation_policy</th>\n",
       "      <th>require_guest_profile_picture</th>\n",
       "      <th>require_guest_phone_verification</th>\n",
       "      <th>calculated_host_listings_count</th>\n",
       "      <th>reviews_per_month</th>\n",
       "    </tr>\n",
       "  </thead>\n",
       "  <tbody>\n",
       "    <tr>\n",
       "      <th>0</th>\n",
       "      <td>241032</td>\n",
       "      <td>https://www.airbnb.com/rooms/241032</td>\n",
       "      <td>20160104002432</td>\n",
       "      <td>2016-01-04</td>\n",
       "      <td>Stylish Queen Anne Apartment</td>\n",
       "      <td>NaN</td>\n",
       "      <td>Make your self at home in this charming one-be...</td>\n",
       "      <td>Make your self at home in this charming one-be...</td>\n",
       "      <td>none</td>\n",
       "      <td>NaN</td>\n",
       "      <td>...</td>\n",
       "      <td>10.0</td>\n",
       "      <td>f</td>\n",
       "      <td>NaN</td>\n",
       "      <td>WASHINGTON</td>\n",
       "      <td>f</td>\n",
       "      <td>moderate</td>\n",
       "      <td>f</td>\n",
       "      <td>f</td>\n",
       "      <td>2</td>\n",
       "      <td>4.07</td>\n",
       "    </tr>\n",
       "    <tr>\n",
       "      <th>1</th>\n",
       "      <td>953595</td>\n",
       "      <td>https://www.airbnb.com/rooms/953595</td>\n",
       "      <td>20160104002432</td>\n",
       "      <td>2016-01-04</td>\n",
       "      <td>Bright &amp; Airy Queen Anne Apartment</td>\n",
       "      <td>Chemically sensitive? We've removed the irrita...</td>\n",
       "      <td>Beautiful, hypoallergenic apartment in an extr...</td>\n",
       "      <td>Chemically sensitive? We've removed the irrita...</td>\n",
       "      <td>none</td>\n",
       "      <td>Queen Anne is a wonderful, truly functional vi...</td>\n",
       "      <td>...</td>\n",
       "      <td>10.0</td>\n",
       "      <td>f</td>\n",
       "      <td>NaN</td>\n",
       "      <td>WASHINGTON</td>\n",
       "      <td>f</td>\n",
       "      <td>strict</td>\n",
       "      <td>t</td>\n",
       "      <td>t</td>\n",
       "      <td>6</td>\n",
       "      <td>1.48</td>\n",
       "    </tr>\n",
       "  </tbody>\n",
       "</table>\n",
       "<p>2 rows × 92 columns</p>\n",
       "</div>"
      ],
      "text/plain": [
       "       id                          listing_url       scrape_id last_scraped  \\\n",
       "0  241032  https://www.airbnb.com/rooms/241032  20160104002432   2016-01-04   \n",
       "1  953595  https://www.airbnb.com/rooms/953595  20160104002432   2016-01-04   \n",
       "\n",
       "                                 name  \\\n",
       "0        Stylish Queen Anne Apartment   \n",
       "1  Bright & Airy Queen Anne Apartment   \n",
       "\n",
       "                                             summary  \\\n",
       "0                                                NaN   \n",
       "1  Chemically sensitive? We've removed the irrita...   \n",
       "\n",
       "                                               space  \\\n",
       "0  Make your self at home in this charming one-be...   \n",
       "1  Beautiful, hypoallergenic apartment in an extr...   \n",
       "\n",
       "                                         description experiences_offered  \\\n",
       "0  Make your self at home in this charming one-be...                none   \n",
       "1  Chemically sensitive? We've removed the irrita...                none   \n",
       "\n",
       "                               neighborhood_overview  ... review_scores_value  \\\n",
       "0                                                NaN  ...                10.0   \n",
       "1  Queen Anne is a wonderful, truly functional vi...  ...                10.0   \n",
       "\n",
       "  requires_license license jurisdiction_names instant_bookable  \\\n",
       "0                f     NaN         WASHINGTON                f   \n",
       "1                f     NaN         WASHINGTON                f   \n",
       "\n",
       "  cancellation_policy  require_guest_profile_picture  \\\n",
       "0            moderate                              f   \n",
       "1              strict                              t   \n",
       "\n",
       "  require_guest_phone_verification calculated_host_listings_count  \\\n",
       "0                                f                              2   \n",
       "1                                t                              6   \n",
       "\n",
       "  reviews_per_month  \n",
       "0              4.07  \n",
       "1              1.48  \n",
       "\n",
       "[2 rows x 92 columns]"
      ]
     },
     "execution_count": 5,
     "metadata": {},
     "output_type": "execute_result"
    }
   ],
   "source": [
    "df_listings = read_dataset('../data/listings.csv')\n",
    "df_listings.head(2)"
   ]
  },
  {
   "cell_type": "code",
   "execution_count": 6,
   "metadata": {},
   "outputs": [
    {
     "name": "stdout",
     "output_type": "stream",
     "text": [
      "Number of columns with missing data: 46\n"
     ]
    },
    {
     "data": {
      "text/html": [
       "<div>\n",
       "<style scoped>\n",
       "    .dataframe tbody tr th:only-of-type {\n",
       "        vertical-align: middle;\n",
       "    }\n",
       "\n",
       "    .dataframe tbody tr th {\n",
       "        vertical-align: top;\n",
       "    }\n",
       "\n",
       "    .dataframe thead th {\n",
       "        text-align: right;\n",
       "    }\n",
       "</style>\n",
       "<table border=\"1\" class=\"dataframe\">\n",
       "  <thead>\n",
       "    <tr style=\"text-align: right;\">\n",
       "      <th></th>\n",
       "      <th>#</th>\n",
       "      <th>%</th>\n",
       "    </tr>\n",
       "  </thead>\n",
       "  <tbody>\n",
       "    <tr>\n",
       "      <th>license</th>\n",
       "      <td>3818</td>\n",
       "      <td>100.00</td>\n",
       "    </tr>\n",
       "    <tr>\n",
       "      <th>square_feet</th>\n",
       "      <td>3721</td>\n",
       "      <td>97.46</td>\n",
       "    </tr>\n",
       "    <tr>\n",
       "      <th>monthly_price</th>\n",
       "      <td>2301</td>\n",
       "      <td>60.27</td>\n",
       "    </tr>\n",
       "    <tr>\n",
       "      <th>security_deposit</th>\n",
       "      <td>1952</td>\n",
       "      <td>51.13</td>\n",
       "    </tr>\n",
       "    <tr>\n",
       "      <th>weekly_price</th>\n",
       "      <td>1809</td>\n",
       "      <td>47.38</td>\n",
       "    </tr>\n",
       "    <tr>\n",
       "      <th>notes</th>\n",
       "      <td>1606</td>\n",
       "      <td>42.06</td>\n",
       "    </tr>\n",
       "    <tr>\n",
       "      <th>neighborhood_overview</th>\n",
       "      <td>1032</td>\n",
       "      <td>27.03</td>\n",
       "    </tr>\n",
       "    <tr>\n",
       "      <th>cleaning_fee</th>\n",
       "      <td>1030</td>\n",
       "      <td>26.98</td>\n",
       "    </tr>\n",
       "    <tr>\n",
       "      <th>transit</th>\n",
       "      <td>934</td>\n",
       "      <td>24.46</td>\n",
       "    </tr>\n",
       "    <tr>\n",
       "      <th>host_about</th>\n",
       "      <td>859</td>\n",
       "      <td>22.50</td>\n",
       "    </tr>\n",
       "    <tr>\n",
       "      <th>host_acceptance_rate</th>\n",
       "      <td>773</td>\n",
       "      <td>20.25</td>\n",
       "    </tr>\n",
       "    <tr>\n",
       "      <th>review_scores_accuracy</th>\n",
       "      <td>658</td>\n",
       "      <td>17.23</td>\n",
       "    </tr>\n",
       "    <tr>\n",
       "      <th>review_scores_checkin</th>\n",
       "      <td>658</td>\n",
       "      <td>17.23</td>\n",
       "    </tr>\n",
       "    <tr>\n",
       "      <th>review_scores_value</th>\n",
       "      <td>656</td>\n",
       "      <td>17.18</td>\n",
       "    </tr>\n",
       "    <tr>\n",
       "      <th>review_scores_location</th>\n",
       "      <td>655</td>\n",
       "      <td>17.16</td>\n",
       "    </tr>\n",
       "    <tr>\n",
       "      <th>review_scores_cleanliness</th>\n",
       "      <td>653</td>\n",
       "      <td>17.10</td>\n",
       "    </tr>\n",
       "    <tr>\n",
       "      <th>review_scores_communication</th>\n",
       "      <td>651</td>\n",
       "      <td>17.05</td>\n",
       "    </tr>\n",
       "    <tr>\n",
       "      <th>review_scores_rating</th>\n",
       "      <td>647</td>\n",
       "      <td>16.95</td>\n",
       "    </tr>\n",
       "    <tr>\n",
       "      <th>last_review</th>\n",
       "      <td>627</td>\n",
       "      <td>16.42</td>\n",
       "    </tr>\n",
       "    <tr>\n",
       "      <th>first_review</th>\n",
       "      <td>627</td>\n",
       "      <td>16.42</td>\n",
       "    </tr>\n",
       "    <tr>\n",
       "      <th>reviews_per_month</th>\n",
       "      <td>627</td>\n",
       "      <td>16.42</td>\n",
       "    </tr>\n",
       "    <tr>\n",
       "      <th>space</th>\n",
       "      <td>569</td>\n",
       "      <td>14.90</td>\n",
       "    </tr>\n",
       "    <tr>\n",
       "      <th>host_response_rate</th>\n",
       "      <td>523</td>\n",
       "      <td>13.70</td>\n",
       "    </tr>\n",
       "    <tr>\n",
       "      <th>host_response_time</th>\n",
       "      <td>523</td>\n",
       "      <td>13.70</td>\n",
       "    </tr>\n",
       "    <tr>\n",
       "      <th>neighbourhood</th>\n",
       "      <td>416</td>\n",
       "      <td>10.90</td>\n",
       "    </tr>\n",
       "    <tr>\n",
       "      <th>xl_picture_url</th>\n",
       "      <td>320</td>\n",
       "      <td>8.38</td>\n",
       "    </tr>\n",
       "    <tr>\n",
       "      <th>medium_url</th>\n",
       "      <td>320</td>\n",
       "      <td>8.38</td>\n",
       "    </tr>\n",
       "    <tr>\n",
       "      <th>thumbnail_url</th>\n",
       "      <td>320</td>\n",
       "      <td>8.38</td>\n",
       "    </tr>\n",
       "    <tr>\n",
       "      <th>host_neighbourhood</th>\n",
       "      <td>300</td>\n",
       "      <td>7.86</td>\n",
       "    </tr>\n",
       "    <tr>\n",
       "      <th>summary</th>\n",
       "      <td>177</td>\n",
       "      <td>4.64</td>\n",
       "    </tr>\n",
       "    <tr>\n",
       "      <th>bathrooms</th>\n",
       "      <td>16</td>\n",
       "      <td>0.42</td>\n",
       "    </tr>\n",
       "    <tr>\n",
       "      <th>host_location</th>\n",
       "      <td>8</td>\n",
       "      <td>0.21</td>\n",
       "    </tr>\n",
       "    <tr>\n",
       "      <th>zipcode</th>\n",
       "      <td>7</td>\n",
       "      <td>0.18</td>\n",
       "    </tr>\n",
       "    <tr>\n",
       "      <th>bedrooms</th>\n",
       "      <td>6</td>\n",
       "      <td>0.16</td>\n",
       "    </tr>\n",
       "    <tr>\n",
       "      <th>host_has_profile_pic</th>\n",
       "      <td>2</td>\n",
       "      <td>0.05</td>\n",
       "    </tr>\n",
       "    <tr>\n",
       "      <th>host_verifications</th>\n",
       "      <td>2</td>\n",
       "      <td>0.05</td>\n",
       "    </tr>\n",
       "    <tr>\n",
       "      <th>host_total_listings_count</th>\n",
       "      <td>2</td>\n",
       "      <td>0.05</td>\n",
       "    </tr>\n",
       "    <tr>\n",
       "      <th>host_listings_count</th>\n",
       "      <td>2</td>\n",
       "      <td>0.05</td>\n",
       "    </tr>\n",
       "    <tr>\n",
       "      <th>host_picture_url</th>\n",
       "      <td>2</td>\n",
       "      <td>0.05</td>\n",
       "    </tr>\n",
       "    <tr>\n",
       "      <th>host_thumbnail_url</th>\n",
       "      <td>2</td>\n",
       "      <td>0.05</td>\n",
       "    </tr>\n",
       "    <tr>\n",
       "      <th>host_is_superhost</th>\n",
       "      <td>2</td>\n",
       "      <td>0.05</td>\n",
       "    </tr>\n",
       "    <tr>\n",
       "      <th>host_since</th>\n",
       "      <td>2</td>\n",
       "      <td>0.05</td>\n",
       "    </tr>\n",
       "    <tr>\n",
       "      <th>host_name</th>\n",
       "      <td>2</td>\n",
       "      <td>0.05</td>\n",
       "    </tr>\n",
       "    <tr>\n",
       "      <th>host_identity_verified</th>\n",
       "      <td>2</td>\n",
       "      <td>0.05</td>\n",
       "    </tr>\n",
       "    <tr>\n",
       "      <th>beds</th>\n",
       "      <td>1</td>\n",
       "      <td>0.03</td>\n",
       "    </tr>\n",
       "    <tr>\n",
       "      <th>property_type</th>\n",
       "      <td>1</td>\n",
       "      <td>0.03</td>\n",
       "    </tr>\n",
       "  </tbody>\n",
       "</table>\n",
       "</div>"
      ],
      "text/plain": [
       "                                #       %\n",
       "license                      3818  100.00\n",
       "square_feet                  3721   97.46\n",
       "monthly_price                2301   60.27\n",
       "security_deposit             1952   51.13\n",
       "weekly_price                 1809   47.38\n",
       "notes                        1606   42.06\n",
       "neighborhood_overview        1032   27.03\n",
       "cleaning_fee                 1030   26.98\n",
       "transit                       934   24.46\n",
       "host_about                    859   22.50\n",
       "host_acceptance_rate          773   20.25\n",
       "review_scores_accuracy        658   17.23\n",
       "review_scores_checkin         658   17.23\n",
       "review_scores_value           656   17.18\n",
       "review_scores_location        655   17.16\n",
       "review_scores_cleanliness     653   17.10\n",
       "review_scores_communication   651   17.05\n",
       "review_scores_rating          647   16.95\n",
       "last_review                   627   16.42\n",
       "first_review                  627   16.42\n",
       "reviews_per_month             627   16.42\n",
       "space                         569   14.90\n",
       "host_response_rate            523   13.70\n",
       "host_response_time            523   13.70\n",
       "neighbourhood                 416   10.90\n",
       "xl_picture_url                320    8.38\n",
       "medium_url                    320    8.38\n",
       "thumbnail_url                 320    8.38\n",
       "host_neighbourhood            300    7.86\n",
       "summary                       177    4.64\n",
       "bathrooms                      16    0.42\n",
       "host_location                   8    0.21\n",
       "zipcode                         7    0.18\n",
       "bedrooms                        6    0.16\n",
       "host_has_profile_pic            2    0.05\n",
       "host_verifications              2    0.05\n",
       "host_total_listings_count       2    0.05\n",
       "host_listings_count             2    0.05\n",
       "host_picture_url                2    0.05\n",
       "host_thumbnail_url              2    0.05\n",
       "host_is_superhost               2    0.05\n",
       "host_since                      2    0.05\n",
       "host_name                       2    0.05\n",
       "host_identity_verified          2    0.05\n",
       "beds                            1    0.03\n",
       "property_type                   1    0.03"
      ]
     },
     "execution_count": 6,
     "metadata": {},
     "output_type": "execute_result"
    }
   ],
   "source": [
    "get_null_col(df_listings)"
   ]
  },
  {
   "cell_type": "markdown",
   "metadata": {},
   "source": [
    "### Reviews Dataset"
   ]
  },
  {
   "cell_type": "code",
   "execution_count": 7,
   "metadata": {},
   "outputs": [
    {
     "name": "stdout",
     "output_type": "stream",
     "text": [
      "Number of rows and columns:  (84849, 6)\n"
     ]
    },
    {
     "data": {
      "text/html": [
       "<div>\n",
       "<style scoped>\n",
       "    .dataframe tbody tr th:only-of-type {\n",
       "        vertical-align: middle;\n",
       "    }\n",
       "\n",
       "    .dataframe tbody tr th {\n",
       "        vertical-align: top;\n",
       "    }\n",
       "\n",
       "    .dataframe thead th {\n",
       "        text-align: right;\n",
       "    }\n",
       "</style>\n",
       "<table border=\"1\" class=\"dataframe\">\n",
       "  <thead>\n",
       "    <tr style=\"text-align: right;\">\n",
       "      <th></th>\n",
       "      <th>listing_id</th>\n",
       "      <th>id</th>\n",
       "      <th>date</th>\n",
       "      <th>reviewer_id</th>\n",
       "      <th>reviewer_name</th>\n",
       "      <th>comments</th>\n",
       "    </tr>\n",
       "  </thead>\n",
       "  <tbody>\n",
       "    <tr>\n",
       "      <th>0</th>\n",
       "      <td>7202016</td>\n",
       "      <td>38917982</td>\n",
       "      <td>2015-07-19</td>\n",
       "      <td>28943674</td>\n",
       "      <td>Bianca</td>\n",
       "      <td>Cute and cozy place. Perfect location to every...</td>\n",
       "    </tr>\n",
       "    <tr>\n",
       "      <th>1</th>\n",
       "      <td>7202016</td>\n",
       "      <td>39087409</td>\n",
       "      <td>2015-07-20</td>\n",
       "      <td>32440555</td>\n",
       "      <td>Frank</td>\n",
       "      <td>Kelly has a great room in a very central locat...</td>\n",
       "    </tr>\n",
       "  </tbody>\n",
       "</table>\n",
       "</div>"
      ],
      "text/plain": [
       "   listing_id        id        date  reviewer_id reviewer_name  \\\n",
       "0     7202016  38917982  2015-07-19     28943674        Bianca   \n",
       "1     7202016  39087409  2015-07-20     32440555         Frank   \n",
       "\n",
       "                                            comments  \n",
       "0  Cute and cozy place. Perfect location to every...  \n",
       "1  Kelly has a great room in a very central locat...  "
      ]
     },
     "execution_count": 7,
     "metadata": {},
     "output_type": "execute_result"
    }
   ],
   "source": [
    "df_reviews = read_dataset('../data/reviews.csv')\n",
    "df_reviews.head(2)"
   ]
  },
  {
   "cell_type": "code",
   "execution_count": 8,
   "metadata": {},
   "outputs": [
    {
     "name": "stdout",
     "output_type": "stream",
     "text": [
      "Number of columns with missing data: 1\n"
     ]
    },
    {
     "data": {
      "text/html": [
       "<div>\n",
       "<style scoped>\n",
       "    .dataframe tbody tr th:only-of-type {\n",
       "        vertical-align: middle;\n",
       "    }\n",
       "\n",
       "    .dataframe tbody tr th {\n",
       "        vertical-align: top;\n",
       "    }\n",
       "\n",
       "    .dataframe thead th {\n",
       "        text-align: right;\n",
       "    }\n",
       "</style>\n",
       "<table border=\"1\" class=\"dataframe\">\n",
       "  <thead>\n",
       "    <tr style=\"text-align: right;\">\n",
       "      <th></th>\n",
       "      <th>#</th>\n",
       "      <th>%</th>\n",
       "    </tr>\n",
       "  </thead>\n",
       "  <tbody>\n",
       "    <tr>\n",
       "      <th>comments</th>\n",
       "      <td>18</td>\n",
       "      <td>0.02</td>\n",
       "    </tr>\n",
       "  </tbody>\n",
       "</table>\n",
       "</div>"
      ],
      "text/plain": [
       "           #     %\n",
       "comments  18  0.02"
      ]
     },
     "execution_count": 8,
     "metadata": {},
     "output_type": "execute_result"
    }
   ],
   "source": [
    "get_null_col(df_reviews)"
   ]
  },
  {
   "cell_type": "markdown",
   "metadata": {},
   "source": [
    "## 3. Data Preparation\n",
    "\n",
    "*Objective: Clean and transform data so that it is ready for analysis or modeling.*\n",
    "\n",
    "### Calendar Dataset\n",
    "\n",
    "- `df_calendar` has 1393570 lines and 4 columns. \n",
    "- The number of columns with missing data is 1 with 32.94% missing values.\n",
    "\n",
    "#### Clean and transform data\n",
    "\n",
    "- In the `price` column, we removed the $ symbol and converted it to float type.\n",
    "- The `date` column was converted to datetime type.\n",
    "- Due to the `price` column having approximately 33% missing values, after\n",
    "  standardizing the values, the adopted strategy was to fill the missing values\n",
    "  with the mean of this column.\n",
    "- To address the question \"*Identify temporal patterns in reserves and prices*\":\n",
    "  - We created two new columns, month and year.\n",
    "  - Finally, we transformed the available column to bool type."
   ]
  },
  {
   "cell_type": "code",
   "execution_count": 9,
   "metadata": {},
   "outputs": [],
   "source": [
    "# Clear and convert 'price' column\n",
    "remove_symbol(df_calendar, \"$\", [\"price\"])\n",
    "\n",
    "# Dealing with numerical missing values columns \n",
    "mean_missing_values(df_calendar, [\"price\"])\n",
    "\n",
    "# Convert date column to datetime type\n",
    "transform_datetime(df_calendar, [\"date\"])\n",
    "\n",
    "# Create new columns for month and year\n",
    "df_calendar[\"month\"] = df_calendar[\"date\"].dt.month\n",
    "df_calendar[\"year\"] = df_calendar[\"date\"].dt.year\n",
    "\n",
    "# Convert the available column to 1 or 0\n",
    "transform_bool(df_calendar, [\"available\"])"
   ]
  },
  {
   "cell_type": "markdown",
   "metadata": {},
   "source": [
    "After cleaning and transforming the data, we check if we have columns with\n",
    "unique values ​​or duplicate columns, and finally, we check again if we still\n",
    "have missing data."
   ]
  },
  {
   "cell_type": "code",
   "execution_count": 10,
   "metadata": {},
   "outputs": [
    {
     "name": "stdout",
     "output_type": "stream",
     "text": [
      "Columns with more than 50% null values: 0\n",
      "Columns with a unique value: 0\n",
      "Duplicate column: 0\n",
      "Data cleaned: (1393570, 6)\n"
     ]
    }
   ],
   "source": [
    "# Treatment of null values\n",
    "calendar_cleaned = drop_cols(df_calendar)"
   ]
  },
  {
   "cell_type": "code",
   "execution_count": 11,
   "metadata": {},
   "outputs": [
    {
     "name": "stdout",
     "output_type": "stream",
     "text": [
      "No missing data\n"
     ]
    }
   ],
   "source": [
    "# Check for null values ​​after cleanup\n",
    "get_null_col(calendar_cleaned)"
   ]
  },
  {
   "cell_type": "markdown",
   "metadata": {},
   "source": [
    "Once the data was cleaned and processed, and we have the dataset ready, we can\n",
    "start the exploratory analysis."
   ]
  },
  {
   "cell_type": "markdown",
   "metadata": {},
   "source": [
    "#### Exploratory analysis\n",
    "\n",
    "- **Q1. Identify temporal patterns in reserves and prices**"
   ]
  },
  {
   "cell_type": "code",
   "execution_count": 12,
   "metadata": {},
   "outputs": [
    {
     "data": {
      "image/png": "[encoded data removed]",
      "text/plain": [
       "<Figure size 600x300 with 1 Axes>"
      ]
     },
     "metadata": {},
     "output_type": "display_data"
    }
   ],
   "source": [
    "# Calculate monthly occupancy rate\n",
    "occupancy_rate = (\n",
    "    calendar_cleaned.groupby([\"year\", \"month\", \"listing_id\"])[\"available\"]\n",
    "    .mean()\n",
    "    .reset_index()\n",
    ")\n",
    "occupancy_rate[\"occupancy_rate\"] = 1 - occupancy_rate[\"available\"]\n",
    "occupancy_rate = occupancy_rate.drop(\"available\", axis=1)\n",
    "monthly_occupancy = (\n",
    "    occupancy_rate.groupby([\"year\", \"month\"])[\"occupancy_rate\"]\n",
    "    .mean()\n",
    "    .reset_index()\n",
    ")\n",
    "\n",
    "# Create a date column from the year and month\n",
    "monthly_occupancy[\"date\"] = pd.to_datetime(\n",
    "    monthly_occupancy[[\"year\", \"month\"]].assign(day=1)\n",
    ")\n",
    "\n",
    "# Graph monthly occupancy rate\n",
    "plt.figure(figsize=(6, 3))\n",
    "sns.lineplot(\n",
    "    data=monthly_occupancy,\n",
    "    x=\"date\",\n",
    "    y=\"occupancy_rate\",\n",
    "    marker=\"o\",\n",
    "    color=\"purple\",\n",
    ")\n",
    "plt.xlabel(\"Date\")\n",
    "plt.ylabel(\"Occupancy Rate\")\n",
    "plt.title(\"Monthly Occupancy Rate\")\n",
    "plt.grid(True)\n",
    "plt.show()"
   ]
  },
  {
   "cell_type": "code",
   "execution_count": 13,
   "metadata": {},
   "outputs": [
    {
     "data": {
      "image/png": "[encoded data removed]",
      "text/plain": [
       "<Figure size 600x300 with 1 Axes>"
      ]
     },
     "metadata": {},
     "output_type": "display_data"
    }
   ],
   "source": [
    "# Calculate monthly average price\n",
    "avg_price_per_month = (\n",
    "    calendar_cleaned.groupby([\"year\", \"month\"])[\"price\"].mean().reset_index()\n",
    ")\n",
    "\n",
    "# Create a date column from the year and month\n",
    "avg_price_per_month[\"date\"] = pd.to_datetime(\n",
    "    avg_price_per_month[[\"year\", \"month\"]].assign(day=1)\n",
    ")\n",
    "\n",
    "# Graph price trend\n",
    "plt.figure(figsize=(6, 3))\n",
    "sns.lineplot(\n",
    "    data=avg_price_per_month,\n",
    "    x=\"date\",\n",
    "    y=\"price\",\n",
    "    marker=\"o\",\n",
    "    color=\"purple\",\n",
    ")\n",
    "plt.xlabel(\"Month\")\n",
    "plt.ylabel(\"Average Price\")\n",
    "plt.title(\"Average Price Per Month\")\n",
    "plt.grid(True)\n",
    "plt.show()"
   ]
  },
  {
   "cell_type": "markdown",
   "metadata": {},
   "source": [
    "#### Analysis of Results\n",
    "\n",
    "- **Occupancy Rate**: The occupancy rate in Seattle shows distinct temporal\n",
    "  patterns. The highest occupancy rate was observed in January 2016, which then\n",
    "  decreased until March 2016. However, there was another increase in July 2016,\n",
    "  starting from March 2016, which then began to decline until January 2017. This\n",
    "  indicates a seasonal trend with peaks in winter (January) and summer (July),\n",
    "  followed by gradual decreases.\n",
    "\n",
    "- **Prices**: The average monthly prices also exhibit a temporal pattern.\n",
    "  January 2016 had the lowest average price, which then increased steadily until\n",
    "  July 2016. After July, prices slightly decreased until November 2016 and\n",
    "  remained stable through January 2017. This suggests that prices tend to rise\n",
    "  during periods of higher occupancy and demand, peaking in the summer.\n",
    "\n",
    "The analysis reveals a relationship between occupancy rates and prices. Both\n",
    "show seasonal trends with peaks in July and January, although prices lag\n",
    "slightly behind occupancy rates. This correlation suggests that higher occupancy\n",
    "rates, likely driven by seasonal demand, are associated with higher prices. This\n",
    "pattern can be used to inform pricing and availability strategies for Airbnb\n",
    "hosts in Seattle."
   ]
  },
  {
   "cell_type": "markdown",
   "metadata": {},
   "source": [
    "### Listings Dataset\n",
    "\n",
    "\n",
    "- `df_listings` has 3818 lines and 92 columns. \n",
    "- The number of columns with missing data is 46 between 0.03% and 100% missing values.\n",
    "\n",
    "#### Clean data\n",
    "\n",
    "- First, we verified and eliminated all columns with more than 50% missing\n",
    "  values, as well as those with unique values and duplicated columns.\n",
    "- Next, we checked for rows with fewer than 10 missing values and removed those\n",
    "  rows.\n",
    "- We also decided to eliminate all columns with \"url\" in their name, as they do\n",
    "  not add value to our analysis."
   ]
  },
  {
   "cell_type": "code",
   "execution_count": 14,
   "metadata": {},
   "outputs": [
    {
     "name": "stdout",
     "output_type": "stream",
     "text": [
      "Columns with more than 50% null values: 4\n",
      "Drop columns: Index(['square_feet', 'monthly_price', 'security_deposit', 'license'], dtype='object')\n",
      "Columns with a unique value: 10\n",
      "Drop columns: ['scrape_id', 'last_scraped', 'experiences_offered', 'market', 'country_code', 'country', 'has_availability', 'calendar_last_scraped', 'requires_license', 'jurisdiction_names']\n",
      "Duplicate column: 1\n",
      "Data cleaned: (3818, 77)\n"
     ]
    }
   ],
   "source": [
    "# Treatment of null values\n",
    "listings_cleaned = drop_cols(df_listings)"
   ]
  },
  {
   "cell_type": "code",
   "execution_count": 15,
   "metadata": {},
   "outputs": [
    {
     "name": "stdout",
     "output_type": "stream",
     "text": [
      "Rows with less than 10 null values: 14\n",
      "['host_name', 'host_since', 'host_location', 'host_is_superhost', 'host_thumbnail_url', 'host_picture_url', 'host_listings_count', 'host_verifications', 'host_has_profile_pic', 'host_identity_verified', 'zipcode', 'property_type', 'bedrooms', 'beds']\n",
      "Data cleaned: (3795, 77)\n"
     ]
    }
   ],
   "source": [
    "# Treatment of null values\n",
    "listings_cleaned = drop_rows(listings_cleaned, 10)"
   ]
  },
  {
   "cell_type": "code",
   "execution_count": 16,
   "metadata": {},
   "outputs": [
    {
     "name": "stdout",
     "output_type": "stream",
     "text": [
      "Columns with 'url' in their name:\n",
      "['listing_url', 'thumbnail_url', 'medium_url', 'picture_url', 'xl_picture_url', 'host_url', 'host_thumbnail_url', 'host_picture_url']\n",
      "(3795, 69)\n"
     ]
    }
   ],
   "source": [
    "# Identify columns that contain \"url\" in their name\n",
    "url_columns = [col for col in listings_cleaned.columns if \"url\" in col.lower()]\n",
    "print(\"Columns with 'url' in their name:\")\n",
    "print(url_columns)\n",
    "\n",
    "# Remove columns that contain \"url\" in their name\n",
    "listings_cleaned = listings_cleaned.drop(columns=url_columns, axis=1)\n",
    "print(listings_cleaned.shape)"
   ]
  },
  {
   "cell_type": "markdown",
   "metadata": {},
   "source": [
    "- After cleaning the null data, we reviewed the remaining columns.\n",
    "- Next, we grouped the columns according to **host**, **review**, or\n",
    "  **property** profile, selecting those that best fit and guide us to answer the\n",
    "  question \"*Determine factors that influence property prices*.\""
   ]
  },
  {
   "cell_type": "code",
   "execution_count": 17,
   "metadata": {},
   "outputs": [
    {
     "name": "stdout",
     "output_type": "stream",
     "text": [
      "Index(['id', 'name', 'summary', 'space', 'description',\n",
      "       'neighborhood_overview', 'notes', 'transit', 'host_id', 'host_name',\n",
      "       'host_since', 'host_location', 'host_about', 'host_response_time',\n",
      "       'host_response_rate', 'host_acceptance_rate', 'host_is_superhost',\n",
      "       'host_neighbourhood', 'host_listings_count', 'host_verifications',\n",
      "       'host_has_profile_pic', 'host_identity_verified', 'street',\n",
      "       'neighbourhood', 'neighbourhood_cleansed',\n",
      "       'neighbourhood_group_cleansed', 'city', 'state', 'zipcode',\n",
      "       'smart_location', 'latitude', 'longitude', 'is_location_exact',\n",
      "       'property_type', 'room_type', 'accommodates', 'bathrooms', 'bedrooms',\n",
      "       'beds', 'bed_type', 'amenities', 'price', 'weekly_price',\n",
      "       'cleaning_fee', 'guests_included', 'extra_people', 'minimum_nights',\n",
      "       'maximum_nights', 'calendar_updated', 'availability_30',\n",
      "       'availability_60', 'availability_90', 'availability_365',\n",
      "       'number_of_reviews', 'first_review', 'last_review',\n",
      "       'review_scores_rating', 'review_scores_accuracy',\n",
      "       'review_scores_cleanliness', 'review_scores_checkin',\n",
      "       'review_scores_communication', 'review_scores_location',\n",
      "       'review_scores_value', 'instant_bookable', 'cancellation_policy',\n",
      "       'require_guest_profile_picture', 'require_guest_phone_verification',\n",
      "       'calculated_host_listings_count', 'reviews_per_month'],\n",
      "      dtype='object')\n"
     ]
    }
   ],
   "source": [
    "# Check remaining columns after removing null values\n",
    "print(listings_cleaned.columns)"
   ]
  },
  {
   "cell_type": "code",
   "execution_count": 18,
   "metadata": {},
   "outputs": [
    {
     "data": {
      "text/plain": [
       "(3795, 43)"
      ]
     },
     "execution_count": 18,
     "metadata": {},
     "output_type": "execute_result"
    }
   ],
   "source": [
    "# Feature selection\n",
    "host_features = [\n",
    "    \"host_since\",\n",
    "    \"host_response_time\",\n",
    "    \"host_response_rate\",\n",
    "    \"host_acceptance_rate\",\n",
    "    \"host_is_superhost\",\n",
    "    \"host_listings_count\",\n",
    "    \"host_verifications\",\n",
    "    \"host_has_profile_pic\",\n",
    "    \"host_identity_verified\",\n",
    "    \"calculated_host_listings_count\",\n",
    "]\n",
    "\n",
    "review_features = [\n",
    "    \"instant_bookable\",\n",
    "    \"cancellation_policy\",\n",
    "    \"require_guest_profile_picture\",\n",
    "    \"require_guest_phone_verification\",\n",
    "    \"reviews_per_month\",\n",
    "    \"number_of_reviews\",\n",
    "    \"first_review\",\n",
    "    \"last_review\",\n",
    "    \"review_scores_rating\",\n",
    "    \"review_scores_accuracy\",\n",
    "    \"review_scores_cleanliness\",\n",
    "    \"review_scores_checkin\",\n",
    "    \"review_scores_communication\",\n",
    "    \"review_scores_location\",\n",
    "    \"review_scores_value\",\n",
    "]\n",
    "\n",
    "property_features = [\n",
    "    \"neighbourhood\",\n",
    "    \"latitude\",\n",
    "    \"longitude\",\n",
    "    \"is_location_exact\",\n",
    "    \"property_type\",\n",
    "    \"room_type\",\n",
    "    \"accommodates\",\n",
    "    \"bathrooms\",\n",
    "    \"bedrooms\",\n",
    "    \"beds\",\n",
    "    \"bed_type\",\n",
    "    \"amenities\",\n",
    "    \"price\",\n",
    "    \"cleaning_fee\",\n",
    "    \"guests_included\",\n",
    "    \"extra_people\",\n",
    "    \"minimum_nights\",\n",
    "    \"maximum_nights\",\n",
    "]\n",
    "\n",
    "features = host_features + review_features + property_features\n",
    "listings_filtered = listings_cleaned.filter(features, axis=1)\n",
    "listings_filtered.shape"
   ]
  },
  {
   "cell_type": "markdown",
   "metadata": {},
   "source": [
    "#### Transform data\n",
    "\n",
    "- We reduced the dataframe from 3818 x 92 to 3795 x 43.\n",
    "- Removed symbols like $ and % from the selected columns and transformed them to\n",
    "  float type.\n",
    "  -  `price, cleaning_fee, extra_people`\n",
    "  -  `host_response_rate, host_acceptance_rate`\n",
    "- Converted selected columns to datetime type.\n",
    "  - `host_since, first_review, last_review`\n",
    "- Formatted categorical columns to numeric for better analysis.\n",
    "  - `host_response_time, cancellation_policy`\n",
    "- Transformed selected columns to boolean type.\n",
    "  - `host_is_superhost, host_has_profile_pic, host_identity_verified, instant_bookable, require_guest_profile_picture, require_guest_phone_verification, require_guest_profile_picture, require_guest_phone_verification, is_location_exact`"
   ]
  },
  {
   "cell_type": "code",
   "execution_count": 19,
   "metadata": {},
   "outputs": [],
   "source": [
    "# Remove symbols\n",
    "remove_symbol(\n",
    "    listings_filtered, \"$\", [\"price\", \"cleaning_fee\", \"extra_people\"]\n",
    ")\n",
    "remove_symbol(\n",
    "    listings_filtered, \"%\", [\"host_response_rate\", \"host_acceptance_rate\"]\n",
    ")\n",
    "\n",
    "# Convert date column to datetime type\n",
    "transform_datetime(\n",
    "    listings_filtered, [\"host_since\", \"first_review\", \"last_review\"]\n",
    ")"
   ]
  },
  {
   "cell_type": "code",
   "execution_count": 20,
   "metadata": {},
   "outputs": [],
   "source": [
    "# Reformat other features\n",
    "listings_filtered[\n",
    "    \"host_response_time\"\n",
    "] = listings_filtered.host_response_time.map(\n",
    "    {\n",
    "        \"within an hour\": 1,\n",
    "        \"within a few hours\": 12,\n",
    "        \"within a day\": 24,\n",
    "        \"a few days or more\": 48,\n",
    "    }\n",
    ")\n",
    "listings_filtered[\"cancellation_policy\"] = listings_filtered[\n",
    "    \"cancellation_policy\"\n",
    "].map({\"strict\": 0, \"moderate\": 1, \"flexible\": 2})"
   ]
  },
  {
   "cell_type": "code",
   "execution_count": 21,
   "metadata": {},
   "outputs": [],
   "source": [
    "# Transform the bool features\n",
    "bool_features = [\n",
    "    \"host_is_superhost\",\n",
    "    \"host_has_profile_pic\",\n",
    "    \"host_identity_verified\",\n",
    "    \"instant_bookable\",\n",
    "    \"require_guest_profile_picture\",\n",
    "    \"require_guest_phone_verification\",\n",
    "    \"require_guest_profile_picture\",\n",
    "    \"require_guest_phone_verification\",\n",
    "    \"is_location_exact\",\n",
    "]\n",
    "\n",
    "transform_bool(listings_filtered, bool_features)"
   ]
  },
  {
   "cell_type": "markdown",
   "metadata": {},
   "source": [
    "We check again for null values ​​in the columns."
   ]
  },
  {
   "cell_type": "code",
   "execution_count": 22,
   "metadata": {},
   "outputs": [
    {
     "name": "stdout",
     "output_type": "stream",
     "text": [
      "Number of columns with missing data: 16\n"
     ]
    },
    {
     "data": {
      "text/html": [
       "<div>\n",
       "<style scoped>\n",
       "    .dataframe tbody tr th:only-of-type {\n",
       "        vertical-align: middle;\n",
       "    }\n",
       "\n",
       "    .dataframe tbody tr th {\n",
       "        vertical-align: top;\n",
       "    }\n",
       "\n",
       "    .dataframe thead th {\n",
       "        text-align: right;\n",
       "    }\n",
       "</style>\n",
       "<table border=\"1\" class=\"dataframe\">\n",
       "  <thead>\n",
       "    <tr style=\"text-align: right;\">\n",
       "      <th></th>\n",
       "      <th>#</th>\n",
       "      <th>%</th>\n",
       "    </tr>\n",
       "  </thead>\n",
       "  <tbody>\n",
       "    <tr>\n",
       "      <th>cleaning_fee</th>\n",
       "      <td>1018</td>\n",
       "      <td>26.82</td>\n",
       "    </tr>\n",
       "    <tr>\n",
       "      <th>host_acceptance_rate</th>\n",
       "      <td>764</td>\n",
       "      <td>20.13</td>\n",
       "    </tr>\n",
       "    <tr>\n",
       "      <th>review_scores_accuracy</th>\n",
       "      <td>647</td>\n",
       "      <td>17.05</td>\n",
       "    </tr>\n",
       "    <tr>\n",
       "      <th>review_scores_checkin</th>\n",
       "      <td>647</td>\n",
       "      <td>17.05</td>\n",
       "    </tr>\n",
       "    <tr>\n",
       "      <th>review_scores_value</th>\n",
       "      <td>645</td>\n",
       "      <td>17.00</td>\n",
       "    </tr>\n",
       "    <tr>\n",
       "      <th>review_scores_location</th>\n",
       "      <td>644</td>\n",
       "      <td>16.97</td>\n",
       "    </tr>\n",
       "    <tr>\n",
       "      <th>review_scores_cleanliness</th>\n",
       "      <td>642</td>\n",
       "      <td>16.92</td>\n",
       "    </tr>\n",
       "    <tr>\n",
       "      <th>review_scores_communication</th>\n",
       "      <td>640</td>\n",
       "      <td>16.86</td>\n",
       "    </tr>\n",
       "    <tr>\n",
       "      <th>review_scores_rating</th>\n",
       "      <td>636</td>\n",
       "      <td>16.76</td>\n",
       "    </tr>\n",
       "    <tr>\n",
       "      <th>reviews_per_month</th>\n",
       "      <td>616</td>\n",
       "      <td>16.23</td>\n",
       "    </tr>\n",
       "    <tr>\n",
       "      <th>first_review</th>\n",
       "      <td>616</td>\n",
       "      <td>16.23</td>\n",
       "    </tr>\n",
       "    <tr>\n",
       "      <th>last_review</th>\n",
       "      <td>616</td>\n",
       "      <td>16.23</td>\n",
       "    </tr>\n",
       "    <tr>\n",
       "      <th>host_response_time</th>\n",
       "      <td>516</td>\n",
       "      <td>13.60</td>\n",
       "    </tr>\n",
       "    <tr>\n",
       "      <th>host_response_rate</th>\n",
       "      <td>516</td>\n",
       "      <td>13.60</td>\n",
       "    </tr>\n",
       "    <tr>\n",
       "      <th>neighbourhood</th>\n",
       "      <td>412</td>\n",
       "      <td>10.86</td>\n",
       "    </tr>\n",
       "    <tr>\n",
       "      <th>bathrooms</th>\n",
       "      <td>15</td>\n",
       "      <td>0.40</td>\n",
       "    </tr>\n",
       "  </tbody>\n",
       "</table>\n",
       "</div>"
      ],
      "text/plain": [
       "                                #      %\n",
       "cleaning_fee                 1018  26.82\n",
       "host_acceptance_rate          764  20.13\n",
       "review_scores_accuracy        647  17.05\n",
       "review_scores_checkin         647  17.05\n",
       "review_scores_value           645  17.00\n",
       "review_scores_location        644  16.97\n",
       "review_scores_cleanliness     642  16.92\n",
       "review_scores_communication   640  16.86\n",
       "review_scores_rating          636  16.76\n",
       "reviews_per_month             616  16.23\n",
       "first_review                  616  16.23\n",
       "last_review                   616  16.23\n",
       "host_response_time            516  13.60\n",
       "host_response_rate            516  13.60\n",
       "neighbourhood                 412  10.86\n",
       "bathrooms                      15   0.40"
      ]
     },
     "execution_count": 22,
     "metadata": {},
     "output_type": "execute_result"
    }
   ],
   "source": [
    "# Check missing data\n",
    "get_null_col(listings_filtered)"
   ]
  },
  {
   "cell_type": "markdown",
   "metadata": {},
   "source": [
    "Since the missing data ranges from 0.4% to 27%, the strategy we adopted was to\n",
    "fill the missing data with the mean of the column for numerical columns and the\n",
    "mode of the column for categorical columns."
   ]
  },
  {
   "cell_type": "code",
   "execution_count": 23,
   "metadata": {},
   "outputs": [],
   "source": [
    "# Dealing with numerical missing values columns\n",
    "numerical_missing_values = [\n",
    "    \"beds\",\n",
    "    \"bedrooms\",\n",
    "    \"bathrooms\",\n",
    "    \"host_response_time\",\n",
    "    \"host_response_rate\",\n",
    "    \"host_acceptance_rate\",\n",
    "    \"host_listings_count\",\n",
    "    \"cleaning_fee\",\n",
    "    \"review_scores_accuracy\",\n",
    "    \"review_scores_checkin\",\n",
    "    \"review_scores_value\",\n",
    "    \"review_scores_location\",\n",
    "    \"review_scores_cleanliness\",\n",
    "    \"review_scores_communication\",\n",
    "    \"review_scores_rating\",\n",
    "    \"reviews_per_month\",\n",
    "]\n",
    "mean_missing_values(listings_filtered, numerical_missing_values)"
   ]
  },
  {
   "cell_type": "code",
   "execution_count": 24,
   "metadata": {},
   "outputs": [],
   "source": [
    "# Dealing with categorical missing values columns\n",
    "categorical_missing_values = [\n",
    "    \"property_type\",\n",
    "    \"neighbourhood\",\n",
    "    \"first_review\",\n",
    "    \"last_review\",\n",
    "    \"host_since\",\n",
    "]\n",
    "mode_missing_values(listings_filtered, categorical_missing_values)"
   ]
  },
  {
   "cell_type": "code",
   "execution_count": 25,
   "metadata": {},
   "outputs": [
    {
     "name": "stdout",
     "output_type": "stream",
     "text": [
      "No missing data\n"
     ]
    }
   ],
   "source": [
    "# Check missing data\n",
    "get_null_col(listings_filtered)"
   ]
  },
  {
   "cell_type": "markdown",
   "metadata": {},
   "source": [
    "Once the data was cleaned and processed, and we have the dataset ready, we can\n",
    "start the exploratory analysis."
   ]
  },
  {
   "cell_type": "markdown",
   "metadata": {},
   "source": [
    "#### Exploratory analysis\n",
    "\n",
    "- **Q2. Determine factors that influence property prices.**"
   ]
  },
  {
   "cell_type": "code",
   "execution_count": 26,
   "metadata": {},
   "outputs": [
    {
     "data": {
      "text/plain": [
       "count    3795.00\n",
       "mean      127.92\n",
       "std        90.27\n",
       "min        20.00\n",
       "25%        75.00\n",
       "50%       100.00\n",
       "75%       150.00\n",
       "max      1000.00\n",
       "Name: price, dtype: float64"
      ]
     },
     "execution_count": 26,
     "metadata": {},
     "output_type": "execute_result"
    }
   ],
   "source": [
    "# Price describe\n",
    "listings_filtered['price'].describe()"
   ]
  },
  {
   "cell_type": "code",
   "execution_count": 27,
   "metadata": {},
   "outputs": [
    {
     "data": {
      "image/png": "[encoded data removed]",
      "text/plain": [
       "<Figure size 600x300 with 1 Axes>"
      ]
     },
     "metadata": {},
     "output_type": "display_data"
    }
   ],
   "source": [
    "# Price Distribution\n",
    "plt.figure(figsize=(6, 3))\n",
    "sns.histplot(listings_filtered['price'], bins=50, kde=True, color=\"purple\")\n",
    "plt.title('Distribution of Listing Prices')\n",
    "plt.xlabel('Price ($)')\n",
    "plt.ylabel('Number of Listings')\n",
    "plt.tight_layout()\n",
    "plt.show()"
   ]
  },
  {
   "cell_type": "code",
   "execution_count": 28,
   "metadata": {},
   "outputs": [
    {
     "data": {
      "image/png": "[encoded data removed]",
      "text/plain": [
       "<Figure size 600x300 with 1 Axes>"
      ]
     },
     "metadata": {},
     "output_type": "display_data"
    }
   ],
   "source": [
    "# Average Price by Neighbourhood\n",
    "avg_price_by_neighbourhood = (\n",
    "    listings_filtered.groupby(\"neighbourhood\")[\"price\"]\n",
    "    .mean()\n",
    "    .sort_values(ascending=False)\n",
    "    .head(10)\n",
    ")\n",
    "\n",
    "plt.figure(figsize=(6, 3))\n",
    "avg_price_by_neighbourhood.plot(kind=\"bar\", color=\"purple\")\n",
    "plt.title(\"Average Price by Neighbourhood\")\n",
    "plt.xlabel(\"Neighbourhood\")\n",
    "plt.ylabel(\"Average Price ($)\")\n",
    "plt.xticks(rotation=45, ha=\"right\")\n",
    "plt.tight_layout()\n",
    "plt.show()"
   ]
  },
  {
   "cell_type": "code",
   "execution_count": 29,
   "metadata": {},
   "outputs": [
    {
     "data": {
      "image/png": "[encoded data removed]",
      "text/plain": [
       "<Figure size 600x300 with 1 Axes>"
      ]
     },
     "metadata": {},
     "output_type": "display_data"
    }
   ],
   "source": [
    "# Average Price by Property Type\n",
    "avg_price_by_property = (\n",
    "    listings_filtered.groupby(\"property_type\")[\"price\"]\n",
    "    .mean()\n",
    "    .sort_values(ascending=False)\n",
    ")\n",
    "\n",
    "plt.figure(figsize=(6, 3))\n",
    "avg_price_by_property.plot(kind=\"bar\", color=\"purple\")\n",
    "plt.title(\"Average Price by Property Type\")\n",
    "plt.xlabel(\"Property Type\")\n",
    "plt.ylabel(\"Average Price ($)\")\n",
    "plt.xticks(rotation=45, ha=\"right\")\n",
    "plt.tight_layout()\n",
    "plt.show()"
   ]
  },
  {
   "cell_type": "code",
   "execution_count": 30,
   "metadata": {},
   "outputs": [
    {
     "data": {
      "image/png": "[encoded data removed]",
      "text/plain": [
       "<Figure size 600x500 with 2 Axes>"
      ]
     },
     "metadata": {},
     "output_type": "display_data"
    }
   ],
   "source": [
    "# Select relevant numeric columns\n",
    "numeric_columns = listings_filtered.select_dtypes(include=[\"float64\", \"int64\"])\n",
    "\n",
    "# Calculate the correlation matrix\n",
    "corr_matrix = numeric_columns.corr()\n",
    "\n",
    "# Create the heatmap\n",
    "plt.figure(figsize=(6, 5))\n",
    "sns.heatmap(corr_matrix, annot=False, cmap=\"Purples\", linewidths=0.5)\n",
    "plt.title(\"Correlation Heatmap\")\n",
    "plt.tight_layout()\n",
    "plt.show()"
   ]
  },
  {
   "cell_type": "markdown",
   "metadata": {},
   "source": [
    "#### Analysis of Results\n",
    "\n",
    "- **Price Distribution**: The histogram shows that most listings are priced\n",
    "  around 100, with over 600 properties in this range. This suggests that $100\n",
    "  is a common price for Airbnb listings in Seattle, possibly indicating a\n",
    "  competitive and affordable market for most travelers.\n",
    "- **Prices by Neighborhood**: The results of the bar plot indicate that the most\n",
    "  expensive neighborhoods are Fairmount Park, standing out as one of the most\n",
    "  expensive areas to stay. This analysis can be useful in identifying premium\n",
    "  neighborhoods and helping homeowners adjust their prices based on location.\n",
    "- **Correlations between Variables**: The correlation matrix shows that there is\n",
    "  a high correlation between price and review-related variables (such as number\n",
    "  of reviews and review score). Significant correlations are also observed with\n",
    "  the number of bathrooms, beds, bedrooms, accommodation capacity and number of\n",
    "  guests included. This suggests that these factors are key determinants of\n",
    "  listing prices, with larger, better-reviewed properties tending to command\n",
    "  higher prices.\n",
    "\n",
    "The analyzes performed provide a clear view of the pricing dynamics in Airbnb\n",
    "listings in Seattle. Understanding the distribution of prices, the factors that\n",
    "affect them, and how they vary by property type and location can help homeowners\n",
    "make informed decisions about pricing and marketing strategies."
   ]
  },
  {
   "cell_type": "markdown",
   "metadata": {},
   "source": [
    "### Reviews Dataset\n",
    "\n",
    "- `df_reviews` has 84849 lines and 6 columns. \n",
    "- The number of columns with missing data is 1 with 0.02% missing values.\n",
    "\n",
    "#### Clean and transform data\n",
    "\n",
    "- Since the `comments` column has approximately 0.02% missing values, the adopted strategy was to delete the rows with missing values as it would not have a significant impact on subsequent analyses.\n",
    "- We checked for columns with unique values or duplicated columns and removed such cases.\n",
    "- The `date` column was converted to datetime type.\n",
    "- To address the question \"*Evaluate customer satisfaction based on reviews*\"\n",
    "  - We cleaned and standardized the text in the `comments` column. This involved converting text to lowercase, removing punctuation, and eliminating stopwords."
   ]
  },
  {
   "cell_type": "code",
   "execution_count": 31,
   "metadata": {},
   "outputs": [
    {
     "name": "stdout",
     "output_type": "stream",
     "text": [
      "Rows with less than 20 null values: 1\n",
      "['comments']\n",
      "Data cleaned: (84831, 6)\n"
     ]
    }
   ],
   "source": [
    "# Treatment of null values\n",
    "reviews_cleaned = drop_rows(df_reviews, 20)"
   ]
  },
  {
   "cell_type": "code",
   "execution_count": 32,
   "metadata": {},
   "outputs": [
    {
     "name": "stdout",
     "output_type": "stream",
     "text": [
      "Columns with more than 50% null values: 0\n",
      "Columns with a unique value: 0\n",
      "Duplicate column: 0\n",
      "Data cleaned: (84831, 6)\n"
     ]
    }
   ],
   "source": [
    "# Treatment of null values\n",
    "reviews_cleaned = drop_cols(reviews_cleaned)"
   ]
  },
  {
   "cell_type": "code",
   "execution_count": 33,
   "metadata": {},
   "outputs": [],
   "source": [
    "# Convert date column to datetime type\n",
    "transform_datetime(reviews_cleaned, [\"date\"])"
   ]
  },
  {
   "cell_type": "code",
   "execution_count": 34,
   "metadata": {},
   "outputs": [],
   "source": [
    "# Clean and standardized text\n",
    "reviews_cleaned['comments'] = reviews_cleaned['comments'].apply(clean_text)"
   ]
  },
  {
   "cell_type": "markdown",
   "metadata": {},
   "source": [
    "Once the data was cleaned and processed, and we have the dataset ready, we can\n",
    "start the exploratory analysis."
   ]
  },
  {
   "cell_type": "markdown",
   "metadata": {},
   "source": [
    "#### Exploratory Analysis\n",
    "\n",
    "- **Q3. Evaluate customer satisfaction based on reviews**"
   ]
  },
  {
   "cell_type": "code",
   "execution_count": 35,
   "metadata": {},
   "outputs": [
    {
     "data": {
      "image/png": "[encoded data removed]",
      "text/plain": [
       "<Figure size 600x300 with 1 Axes>"
      ]
     },
     "metadata": {},
     "output_type": "display_data"
    }
   ],
   "source": [
    "# Date distribution of reviews\n",
    "plt.figure(figsize=(6, 3))\n",
    "reviews_cleaned['date'].hist(bins=50, color=\"purple\")\n",
    "plt.title('Distribution of Review Dates')\n",
    "plt.xlabel('Date')\n",
    "plt.ylabel('Frequency')\n",
    "plt.show()"
   ]
  },
  {
   "cell_type": "code",
   "execution_count": 36,
   "metadata": {},
   "outputs": [
    {
     "data": {
      "image/png": "[encoded data removed]",
      "text/plain": [
       "<Figure size 600x300 with 1 Axes>"
      ]
     },
     "metadata": {},
     "output_type": "display_data"
    }
   ],
   "source": [
    "# Analysis of the most frequent words in the reviews\n",
    "# Join all comments\n",
    "all_comments = ' '.join(reviews_cleaned['comments'].tolist())\n",
    "\n",
    "# Count the most frequent words\n",
    "word_counts = Counter(all_comments.split())\n",
    "common_words = word_counts.most_common(10)\n",
    "\n",
    "# Display the most frequent words\n",
    "common_words_df = pd.DataFrame(common_words, columns=['Word', 'Frequency'])\n",
    "plt.figure(figsize=(6, 3))\n",
    "sns.barplot(x='Word', y='Frequency', data=common_words_df, palette=\"flare\")\n",
    "plt.title('Most Frequent Words in Reviews')\n",
    "plt.xticks(rotation=90)\n",
    "plt.show()"
   ]
  },
  {
   "cell_type": "code",
   "execution_count": 37,
   "metadata": {},
   "outputs": [],
   "source": [
    "# Apply sentiment analysis\n",
    "reviews_cleaned[\"sentiment_vader\"] = reviews_cleaned[\"comments\"].apply(\n",
    "    get_sentiment_vader\n",
    ")\n",
    "\n",
    "# Categorize feelings as positive, negative or neutral\n",
    "reviews_cleaned[\"sentiment_category_vader\"] = reviews_cleaned[\n",
    "    \"sentiment_vader\"\n",
    "].apply(\n",
    "    lambda score: \"positive\"\n",
    "    if score > 0\n",
    "    else (\"negative\" if score < 0 else \"neutral\")\n",
    ")"
   ]
  },
  {
   "cell_type": "code",
   "execution_count": 38,
   "metadata": {},
   "outputs": [
    {
     "data": {
      "text/html": [
       "<div>\n",
       "<style scoped>\n",
       "    .dataframe tbody tr th:only-of-type {\n",
       "        vertical-align: middle;\n",
       "    }\n",
       "\n",
       "    .dataframe tbody tr th {\n",
       "        vertical-align: top;\n",
       "    }\n",
       "\n",
       "    .dataframe thead th {\n",
       "        text-align: right;\n",
       "    }\n",
       "</style>\n",
       "<table border=\"1\" class=\"dataframe\">\n",
       "  <thead>\n",
       "    <tr style=\"text-align: right;\">\n",
       "      <th></th>\n",
       "      <th>listing_id</th>\n",
       "      <th>id</th>\n",
       "      <th>date</th>\n",
       "      <th>reviewer_id</th>\n",
       "      <th>reviewer_name</th>\n",
       "      <th>comments</th>\n",
       "      <th>sentiment_vader</th>\n",
       "      <th>sentiment_category_vader</th>\n",
       "    </tr>\n",
       "  </thead>\n",
       "  <tbody>\n",
       "    <tr>\n",
       "      <th>0</th>\n",
       "      <td>7202016</td>\n",
       "      <td>38917982</td>\n",
       "      <td>2015-07-19</td>\n",
       "      <td>28943674</td>\n",
       "      <td>Bianca</td>\n",
       "      <td>cute cozy place perfect location everything</td>\n",
       "      <td>0.77</td>\n",
       "      <td>positive</td>\n",
       "    </tr>\n",
       "    <tr>\n",
       "      <th>1</th>\n",
       "      <td>7202016</td>\n",
       "      <td>39087409</td>\n",
       "      <td>2015-07-20</td>\n",
       "      <td>32440555</td>\n",
       "      <td>Frank</td>\n",
       "      <td>kelly great room central location beautiful bu...</td>\n",
       "      <td>0.99</td>\n",
       "      <td>positive</td>\n",
       "    </tr>\n",
       "  </tbody>\n",
       "</table>\n",
       "</div>"
      ],
      "text/plain": [
       "   listing_id        id       date  reviewer_id reviewer_name  \\\n",
       "0     7202016  38917982 2015-07-19     28943674        Bianca   \n",
       "1     7202016  39087409 2015-07-20     32440555         Frank   \n",
       "\n",
       "                                            comments  sentiment_vader  \\\n",
       "0        cute cozy place perfect location everything             0.77   \n",
       "1  kelly great room central location beautiful bu...             0.99   \n",
       "\n",
       "  sentiment_category_vader  \n",
       "0                 positive  \n",
       "1                 positive  "
      ]
     },
     "execution_count": 38,
     "metadata": {},
     "output_type": "execute_result"
    }
   ],
   "source": [
    "# Count feelings using VADER\n",
    "sentiment_counts_vader = reviews_cleaned[\n",
    "    \"sentiment_category_vader\"\n",
    "].value_counts()\n",
    "\n",
    "# Calculate the proportion of each sentiment category\n",
    "sentiment_proportions_vader = (\n",
    "    sentiment_counts_vader / len(reviews_cleaned)\n",
    ") * 100\n",
    "\n",
    "reviews_cleaned.head(2)"
   ]
  },
  {
   "cell_type": "code",
   "execution_count": 39,
   "metadata": {},
   "outputs": [
    {
     "data": {
      "image/png": "[encoded data removed]",
      "text/plain": [
       "<Figure size 500x500 with 1 Axes>"
      ]
     },
     "metadata": {},
     "output_type": "display_data"
    }
   ],
   "source": [
    "# Graph the distribution of feelings\n",
    "plt.figure(figsize=(5, 5))\n",
    "sns.barplot(\n",
    "    x=sentiment_counts_vader.index,\n",
    "    y=sentiment_counts_vader.values,\n",
    "    palette=\"flare\",\n",
    ")\n",
    "\n",
    "# Add proportion labels to each bar\n",
    "for i, proportion in enumerate(sentiment_proportions_vader):\n",
    "    plt.text(\n",
    "        i,\n",
    "        sentiment_counts_vader.values[i],\n",
    "        f\"{proportion:.2f}%\",\n",
    "        ha=\"center\",\n",
    "        va=\"bottom\",\n",
    "    )\n",
    "\n",
    "plt.title(\"Distribution of Feelings (VADER)\")\n",
    "plt.xlabel(\"Feeling\")\n",
    "plt.ylabel(\"Frequency\")\n",
    "plt.show()"
   ]
  },
  {
   "cell_type": "code",
   "execution_count": 40,
   "metadata": {},
   "outputs": [
    {
     "name": "stdout",
     "output_type": "stream",
     "text": [
      "Random comments with positive sentiment:\n",
      "* zen retreat perfect place stay us great place base busy sightseeing days neighborhood quiet houses decor relaxing long day great grab quick bite local market relax evening matt good host responsive questions\n",
      "* cozy little place love extra study room party lighted porch looking onto ancient apple tree allison john attentive every need unit felt nicely clean wish kitchenette sink bathroom sink suffices keurig machine terrific thank allison john\n"
     ]
    }
   ],
   "source": [
    "feeling_comments(reviews_cleaned, \"positive\", 2)"
   ]
  },
  {
   "cell_type": "code",
   "execution_count": 41,
   "metadata": {},
   "outputs": [
    {
     "name": "stdout",
     "output_type": "stream",
     "text": [
      "Random comments with negative sentiment:\n",
      "* wir haben uns sehr wohl gefühlt dieser kleinen gemütlichen cabin umgeben von einem lauschigen bambusgarten netter rückzugspunktich habe gerne die mit den basics ausgestattete küche genutzt gute lage wenn man mit öffentlichen verkehrsmitteln unterwegs ist drei busse halten um die ecke und fahren downtown und zur metrostation union street von wo aus man anschluß alle richtungen hat\n",
      "* tayyab war bei unserer ankunft persönlich vor ort da wir später als geplant ankamen und unser leihauto nicht mehr zurückgeben konnten organisierte tayyab einen sicheren tiefgaragenplatz er gab uns gute tips für die zwei tage seattle die unterkunft war wie beschrieben lag zentral und bot eine tolle sicht auf seattle alles war bestens\n"
     ]
    }
   ],
   "source": [
    "feeling_comments(reviews_cleaned, \"negative\", 2)"
   ]
  },
  {
   "cell_type": "code",
   "execution_count": 42,
   "metadata": {},
   "outputs": [
    {
     "name": "stdout",
     "output_type": "stream",
     "text": [
      "Random comments with neutral sentiment:\n",
      "* host sent message soon landed let know options get unit airport access unit arrived\n",
      "* 모든게 설명한대로 였습니다 아주 좋았습니다\n"
     ]
    }
   ],
   "source": [
    "feeling_comments(reviews_cleaned, \"neutral\", 2)"
   ]
  },
  {
   "cell_type": "markdown",
   "metadata": {},
   "source": [
    "#### Analysis of Results\n",
    "\n",
    "- **Review Volume**: The year 2016 had the highest number of user reviews,\n",
    "  indicating a significant level of engagement and feedback from customers\n",
    "  during that period.\n",
    "- **Commonly Used Words**: The most frequently used words in user reviews were\n",
    "  \"great,\" \"clean,\" \"location,\" and \"comfortable.\" These keywords suggest that\n",
    "  customers generally had positive experiences and appreciated the cleanliness,\n",
    "  location, and comfort of the accommodations.\n",
    "\n",
    "**Sentiment Analysis**:\n",
    "\n",
    "- Positive Reviews: 97.42% of the comments were positive, reflecting a high\n",
    "  level of customer satisfaction.\n",
    "- Neutral Reviews: 1.85% of the comments were neutral.\n",
    "- Negative Reviews: Only 0.73% of the comments were negative, indicating a very\n",
    "  low level of dissatisfaction among users.\n",
    "- *Language of Reviews: Some of the reviews classified as neutral or negative\n",
    "  were written in languages other than English. This language variation could\n",
    "  impact the accuracy of sentiment classification.*\n",
    "\n",
    "**Suggestion**: It is recommended to clean the data to include only comments\n",
    "written in English. This step would ensure more consistent and accurate\n",
    "sentiment analysis, leading to better insights into customer satisfaction.\n",
    "\n",
    "Overall, the analysis shows that customer satisfaction is overwhelmingly\n",
    "positive, with a few areas for improvement in handling multilingual reviews."
   ]
  },
  {
   "cell_type": "markdown",
   "metadata": {},
   "source": [
    "# 4. Data Modeling\n",
    "\n",
    "*Objective: Apply modeling techniques to identify patterns or predict values.*\n",
    "\n",
    "**Linear Regression** is a simple model that attempts to capture the linear\n",
    "relationship between features and price.\n",
    "- Pros: Easy to interpret and quick to train.\n",
    "- Cons: May not capture complex relationships between variables."
   ]
  },
  {
   "cell_type": "code",
   "execution_count": 43,
   "metadata": {},
   "outputs": [],
   "source": [
    "# Define the characteristics (X) and the objective (y)\n",
    "X = listings_filtered[\n",
    "    [\n",
    "        \"accommodates\",\n",
    "        \"bathrooms\",\n",
    "        \"bedrooms\",\n",
    "        \"beds\",\n",
    "        \"guests_included\",\n",
    "        \"reviews_per_month\",\n",
    "        \"number_of_reviews\",\n",
    "        \"review_scores_rating\",\n",
    "        \"review_scores_accuracy\",\n",
    "        \"review_scores_cleanliness\",\n",
    "        \"review_scores_checkin\",\n",
    "        \"review_scores_communication\",\n",
    "        \"review_scores_location\",\n",
    "        \"review_scores_value\",\n",
    "        \"cleaning_fee\",\n",
    "        \"host_response_rate\",\n",
    "        \"host_acceptance_rate\",\n",
    "        \"host_is_superhost\",\n",
    "    ]\n",
    "]\n",
    "y = listings_filtered[\"price\"]\n",
    "\n",
    "# Split the dataset into training and validation sets\n",
    "X_train, X_valid, y_train, y_valid = train_test_split(\n",
    "    X, y, test_size=0.3, random_state=42\n",
    ")"
   ]
  },
  {
   "cell_type": "code",
   "execution_count": 44,
   "metadata": {},
   "outputs": [
    {
     "data": {
      "text/html": [
       "<style>#sk-container-id-1 {color: black;background-color: white;}#sk-container-id-1 pre{padding: 0;}#sk-container-id-1 div.sk-toggleable {background-color: white;}#sk-container-id-1 label.sk-toggleable__label {cursor: pointer;display: block;width: 100%;margin-bottom: 0;padding: 0.3em;box-sizing: border-box;text-align: center;}#sk-container-id-1 label.sk-toggleable__label-arrow:before {content: \"▸\";float: left;margin-right: 0.25em;color: #696969;}#sk-container-id-1 label.sk-toggleable__label-arrow:hover:before {color: black;}#sk-container-id-1 div.sk-estimator:hover label.sk-toggleable__label-arrow:before {color: black;}#sk-container-id-1 div.sk-toggleable__content {max-height: 0;max-width: 0;overflow: hidden;text-align: left;background-color: #f0f8ff;}#sk-container-id-1 div.sk-toggleable__content pre {margin: 0.2em;color: black;border-radius: 0.25em;background-color: #f0f8ff;}#sk-container-id-1 input.sk-toggleable__control:checked~div.sk-toggleable__content {max-height: 200px;max-width: 100%;overflow: auto;}#sk-container-id-1 input.sk-toggleable__control:checked~label.sk-toggleable__label-arrow:before {content: \"▾\";}#sk-container-id-1 div.sk-estimator input.sk-toggleable__control:checked~label.sk-toggleable__label {background-color: #d4ebff;}#sk-container-id-1 div.sk-label input.sk-toggleable__control:checked~label.sk-toggleable__label {background-color: #d4ebff;}#sk-container-id-1 input.sk-hidden--visually {border: 0;clip: rect(1px 1px 1px 1px);clip: rect(1px, 1px, 1px, 1px);height: 1px;margin: -1px;overflow: hidden;padding: 0;position: absolute;width: 1px;}#sk-container-id-1 div.sk-estimator {font-family: monospace;background-color: #f0f8ff;border: 1px dotted black;border-radius: 0.25em;box-sizing: border-box;margin-bottom: 0.5em;}#sk-container-id-1 div.sk-estimator:hover {background-color: #d4ebff;}#sk-container-id-1 div.sk-parallel-item::after {content: \"\";width: 100%;border-bottom: 1px solid gray;flex-grow: 1;}#sk-container-id-1 div.sk-label:hover label.sk-toggleable__label {background-color: #d4ebff;}#sk-container-id-1 div.sk-serial::before {content: \"\";position: absolute;border-left: 1px solid gray;box-sizing: border-box;top: 0;bottom: 0;left: 50%;z-index: 0;}#sk-container-id-1 div.sk-serial {display: flex;flex-direction: column;align-items: center;background-color: white;padding-right: 0.2em;padding-left: 0.2em;position: relative;}#sk-container-id-1 div.sk-item {position: relative;z-index: 1;}#sk-container-id-1 div.sk-parallel {display: flex;align-items: stretch;justify-content: center;background-color: white;position: relative;}#sk-container-id-1 div.sk-item::before, #sk-container-id-1 div.sk-parallel-item::before {content: \"\";position: absolute;border-left: 1px solid gray;box-sizing: border-box;top: 0;bottom: 0;left: 50%;z-index: -1;}#sk-container-id-1 div.sk-parallel-item {display: flex;flex-direction: column;z-index: 1;position: relative;background-color: white;}#sk-container-id-1 div.sk-parallel-item:first-child::after {align-self: flex-end;width: 50%;}#sk-container-id-1 div.sk-parallel-item:last-child::after {align-self: flex-start;width: 50%;}#sk-container-id-1 div.sk-parallel-item:only-child::after {width: 0;}#sk-container-id-1 div.sk-dashed-wrapped {border: 1px dashed gray;margin: 0 0.4em 0.5em 0.4em;box-sizing: border-box;padding-bottom: 0.4em;background-color: white;}#sk-container-id-1 div.sk-label label {font-family: monospace;font-weight: bold;display: inline-block;line-height: 1.2em;}#sk-container-id-1 div.sk-label-container {text-align: center;}#sk-container-id-1 div.sk-container {/* jupyter's `normalize.less` sets `[hidden] { display: none; }` but bootstrap.min.css set `[hidden] { display: none !important; }` so we also need the `!important` here to be able to override the default hidden behavior on the sphinx rendered scikit-learn.org. See: https://github.com/scikit-learn/scikit-learn/issues/21755 */display: inline-block !important;position: relative;}#sk-container-id-1 div.sk-text-repr-fallback {display: none;}</style><div id=\"sk-container-id-1\" class=\"sk-top-container\"><div class=\"sk-text-repr-fallback\"><pre>LinearRegression()</pre><b>In a Jupyter environment, please rerun this cell to show the HTML representation or trust the notebook. <br />On GitHub, the HTML representation is unable to render, please try loading this page with nbviewer.org.</b></div><div class=\"sk-container\" hidden><div class=\"sk-item\"><div class=\"sk-estimator sk-toggleable\"><input class=\"sk-toggleable__control sk-hidden--visually\" id=\"sk-estimator-id-1\" type=\"checkbox\" checked><label for=\"sk-estimator-id-1\" class=\"sk-toggleable__label sk-toggleable__label-arrow\">LinearRegression</label><div class=\"sk-toggleable__content\"><pre>LinearRegression()</pre></div></div></div></div></div>"
      ],
      "text/plain": [
       "LinearRegression()"
      ]
     },
     "execution_count": 44,
     "metadata": {},
     "output_type": "execute_result"
    }
   ],
   "source": [
    "# We train the linear regression model\n",
    "model = LinearRegression()\n",
    "model.fit(X_train, y_train)"
   ]
  },
  {
   "cell_type": "code",
   "execution_count": 45,
   "metadata": {},
   "outputs": [],
   "source": [
    "# Predict on validation set\n",
    "y_pred = model.predict(X_valid)"
   ]
  },
  {
   "cell_type": "markdown",
   "metadata": {},
   "source": [
    "# 5. Evaluation\n",
    "\n",
    "*Objective: Evaluate the results of the model in terms of accuracy and usefulness for the business.*"
   ]
  },
  {
   "cell_type": "code",
   "execution_count": 46,
   "metadata": {},
   "outputs": [
    {
     "name": "stdout",
     "output_type": "stream",
     "text": [
      "Mean Squared Error (MSE): 3239.9372327865867\n",
      "Mean Absolute Error (MAE): 38.09052779964685\n",
      "R² Score: 0.5576846223142518\n"
     ]
    }
   ],
   "source": [
    "# Evaluate the model\n",
    "mse = mean_squared_error(y_valid, y_pred)\n",
    "mae = mean_absolute_error(y_valid, y_pred)\n",
    "r2 = r2_score(y_valid, y_pred)\n",
    "\n",
    "print(f\"Mean Squared Error (MSE): {mse}\")\n",
    "print(f\"Mean Absolute Error (MAE): {mae}\")\n",
    "print(f\"R² Score: {r2}\")"
   ]
  },
  {
   "cell_type": "code",
   "execution_count": 47,
   "metadata": {},
   "outputs": [
    {
     "data": {
      "image/png": "[encoded data removed]",
      "text/plain": [
       "<Figure size 600x300 with 1 Axes>"
      ]
     },
     "metadata": {},
     "output_type": "display_data"
    }
   ],
   "source": [
    "# View the results\n",
    "plt.figure(figsize=(6,3))\n",
    "plt.scatter(y_valid, y_pred, alpha=0.5, color='purple')\n",
    "plt.plot([y.min(), y.max()], [y.min(), y.max()], 'k--', lw=2)\n",
    "plt.xlabel('Actual')\n",
    "plt.ylabel('Predicted')\n",
    "plt.title('Actual vs Predicted Prices')\n",
    "plt.show()"
   ]
  },
  {
   "cell_type": "markdown",
   "metadata": {},
   "source": [
    "#### Analysis of Results\n",
    "\n",
    "- An MAE of 38.09 means that, on average, the model predictions are off from the\n",
    "  actual value by approximately $38.09. This is a more interpretable value and\n",
    "  less sensitive to outliers compared to the MSE. A reduction in the MAE\n",
    "  indicates that the model is improving in terms of absolute accuracy.\n",
    "- An R² of 0.558 indicates that approximately 55.8% of the variability in\n",
    "  property prices can be explained by the model. This suggests moderate to good\n",
    "  predictive ability.\n",
    "- Although the model has a reasonable level of predictive ability, an R² of\n",
    "  0.558 also suggests that there is 44.2% of the variability that is not being\n",
    "  captured by the model, indicating that some important features could be\n",
    "  missing or that the model is not complex enough to Capture all relationships\n",
    "  present in the data."
   ]
  },
  {
   "cell_type": "markdown",
   "metadata": {},
   "source": [
    "# 6. Deployment\n",
    "\n",
    "*Objective: Implement the solution so that it can be used by the business.*\n",
    "\n",
    "- Automate the data pipeline: \n",
    "  - Use scripts and tools to automate data collection, cleaning and analysis.\n",
    "- Deploy the model to production: \n",
    "  - Use cloud services such as AWS, GCP or Azure to deploy the model.\n",
    "  - Create an API so that other systems can access the model."
   ]
  },
  {
   "cell_type": "markdown",
   "metadata": {},
   "source": [
    "## Conclusions\n",
    "\n",
    "Steps to **improve** the `model`:\n",
    "\n",
    "- Explore more price-relevant features.\n",
    "- Test more complex models that can capture non-linear relationships.\n",
    "- Apply regularization techniques to improve the robustness of the model.\n",
    "- Perform an analysis and treatment of outliers.\n",
    "- Use cross-validation for a more robust evaluation."
   ]
  },
  {
   "cell_type": "markdown",
   "metadata": {},
   "source": []
  }
 ],
 "metadata": {
  "kernelspec": {
   "display_name": "Python 3",
   "language": "python",
   "name": "python3"
  },
  "language_info": {
   "codemirror_mode": {
    "name": "ipython",
    "version": 3
   },
   "file_extension": ".py",
   "mimetype": "text/x-python",
   "name": "python",
   "nbconvert_exporter": "python",
   "pygments_lexer": "ipython3",
   "version": "3.11.5"
  }
 },
 "nbformat": 4,
 "nbformat_minor": 2
}
