{
 "cells": [
  {
   "cell_type": "markdown",
   "metadata": {},
   "source": [
    "# Seattle Airbnb Data Analysis\n",
    "\n",
    "This repository contains a comprehensive analysis of the [Seattle Airbnb\n",
    "dataset](https://www.kaggle.com/datasets/airbnb/seattle/data), conducted using\n",
    "the [CRoss Industry Standard Process for Data Mining -\n",
    "CRISP-DM](https://en.wikipedia.org/wiki/Cross-industry_standard_process_for_data_mining)\n",
    "methodology. \n",
    "\n",
    "The dataset includes detailed information about Airbnb listings, daily\n",
    "availability, pricing, and user reviews in Seattle. The analysis aims to uncover\n",
    "patterns and insights related to occupancy rates, pricing trends, and customer\n",
    "satisfaction.\n",
    "\n",
    "CRISP-DM methodology is consisted of the following steps:\n",
    "\n",
    "1. Business Understanding\n",
    "2. Data Understanding\n",
    "3. Data Preparation\n",
    "4. Data Modeling\n",
    "5. Result Evaluation\n",
    "6. Deployment\n",
    "\n",
    "# 1. Business Understanding\n",
    "\n",
    "*Objective: Understand the business objectives and requirements that motivate\n",
    "data analysis.*\n",
    "\n",
    "What is expected to be achieved with the analysis of the **Airbnb dataset in\n",
    "Seattle**? Some possible objectives may be:\n",
    "\n",
    "- **Q1. Identify temporal patterns in reserves and prices.**\n",
    "- **Q2. Evaluate customer satisfaction based on reviews.**\n",
    "- **Q3. Determine factors that influence property prices.**"
   ]
  },
  {
   "cell_type": "markdown",
   "metadata": {},
   "source": [
    "# 2. Data Understanding\n",
    "\n",
    "*Objective: Become familiar with the available data and evaluate its quality.*\n",
    "\n",
    "## 2.1 Import libraries"
   ]
  },
  {
   "cell_type": "code",
   "execution_count": 85,
   "metadata": {},
   "outputs": [
    {
     "name": "stderr",
     "output_type": "stream",
     "text": [
      "[nltk_data] Downloading package punkt to /Users/mafda/nltk_data...\n",
      "[nltk_data]   Package punkt is already up-to-date!\n",
      "[nltk_data] Downloading package stopwords to /Users/mafda/nltk_data...\n",
      "[nltk_data]   Package stopwords is already up-to-date!\n",
      "[nltk_data] Downloading package vader_lexicon to\n",
      "[nltk_data]     /Users/mafda/nltk_data...\n",
      "[nltk_data]   Package vader_lexicon is already up-to-date!\n"
     ]
    },
    {
     "data": {
      "text/plain": [
       "True"
      ]
     },
     "execution_count": 85,
     "metadata": {},
     "output_type": "execute_result"
    }
   ],
   "source": [
    "import string\n",
    "import warnings\n",
    "from collections import Counter\n",
    "\n",
    "import matplotlib.pyplot as plt\n",
    "import nltk\n",
    "import numpy as np\n",
    "import pandas as pd\n",
    "import seaborn as sns\n",
    "from nltk.corpus import stopwords\n",
    "from nltk.sentiment.vader import SentimentIntensityAnalyzer\n",
    "from nltk.tokenize import word_tokenize\n",
    "\n",
    "from sklearn.model_selection import train_test_split\n",
    "from sklearn.linear_model import LinearRegression\n",
    "from sklearn.metrics import mean_squared_error, mean_absolute_error, r2_score\n",
    "\n",
    "warnings.simplefilter(action='ignore', category=FutureWarning)\n",
    "nltk.download('punkt')\n",
    "nltk.download('stopwords')\n",
    "nltk.download('vader_lexicon')"
   ]
  },
  {
   "cell_type": "markdown",
   "metadata": {},
   "source": [
    "### Some functions"
   ]
  },
  {
   "cell_type": "code",
   "execution_count": 86,
   "metadata": {},
   "outputs": [],
   "source": [
    "def read_dataset(csv_file):\n",
    "    # Read datasets\n",
    "    df = pd.read_csv(csv_file)\n",
    "    print(\"Number of rows and columns: \", df.shape)\n",
    "    return df\n",
    "\n",
    "\n",
    "def get_null_col(df):\n",
    "    # Get null values and the porcentage\n",
    "    pd.set_option(\"display.precision\", 2)\n",
    "    null_col = df.columns[df.isna().sum() > 0]\n",
    "    col_null_val = df[null_col].isna().sum().sort_values(ascending=False)\n",
    "    per_null_val = (df[null_col].isna().sum() / df.shape[0] * 100).sort_values(\n",
    "        ascending=False\n",
    "    )\n",
    "    # Create a dataframe with results per column\n",
    "    if len(col_null_val) > 0:\n",
    "        nulls_df = pd.DataFrame(col_null_val, columns=[\"No. Nulls\"])\n",
    "        nulls_df[\"Nulls [%]\"] = per_null_val\n",
    "        print(\"Number of columns with missing data:\", nulls_df.shape[0])\n",
    "        return nulls_df\n",
    "    else:\n",
    "        print(\"No missing data\")\n",
    "\n",
    "\n",
    "def drop_cols(df):\n",
    "    # Identify columns with more than 50% null values\n",
    "    null_percentage = df.isnull().mean() * 100\n",
    "    columns_to_drop = null_percentage[null_percentage > 50].index\n",
    "    print(\"Columns with more than 50% null values:\", len(columns_to_drop))\n",
    "\n",
    "    if len(columns_to_drop) > 0:\n",
    "        df = df.drop(columns=columns_to_drop, axis=1)\n",
    "        print(\"Drop columns:\", columns_to_drop)\n",
    "\n",
    "    # Identify columns with a single value\n",
    "    unique_value_columns = [\n",
    "        col for col in df.columns if df[col].nunique() == 1\n",
    "    ]\n",
    "    print(\"Columns with a unique value:\", len(unique_value_columns))\n",
    "\n",
    "    if len(unique_value_columns) > 0:\n",
    "        df = df.drop(columns=unique_value_columns, axis=1)\n",
    "        print(\"Drop columns:\", unique_value_columns)\n",
    "\n",
    "    # Drop duplicate column\n",
    "    duplicated_columns = set()\n",
    "    for i in range(len(df.columns)):\n",
    "        col1 = df.columns[i]\n",
    "        for j in range(i + 1, len(df.columns)):\n",
    "            col2 = df.columns[j]\n",
    "            if df[col1].equals(df[col2]):\n",
    "                duplicated_columns.add(col2)\n",
    "    print(\"Duplicate column:\", len(duplicated_columns))\n",
    "\n",
    "    if len(duplicated_columns) > 0:\n",
    "        df = df.drop(columns=duplicated_columns, axis=1)\n",
    "\n",
    "    print(\"df cleaned:\", df.shape)\n",
    "\n",
    "    return df\n",
    "\n",
    "\n",
    "def drop_rows(df, rows):\n",
    "    # Show the number of null values ​​in each column\n",
    "    null_counts = df.isnull().sum()\n",
    "    drop_column = []\n",
    "\n",
    "    # Check if any column has less than 10 rows with null values\n",
    "    for column in df.columns:\n",
    "        if null_counts[column] < rows and null_counts[column] > 0:\n",
    "        # Delete rows with null values ​​in that column\n",
    "            df.dropna(subset=column, axis=0, inplace=True)\n",
    "            drop_column.append(column)\n",
    "\n",
    "    print(f\"Columns with less than {rows} null values:\", len(drop_column))\n",
    "    print(drop_column)\n",
    "    print(\"df cleaned:\", df.shape)\n",
    "\n",
    "    return df\n",
    "\n",
    "\n",
    "def remove_symbol(df, symbol, cols):\n",
    "    # Remove symbol and format the columns as float\n",
    "    for col in cols:\n",
    "        df[col] = (\n",
    "            df[col]\n",
    "            .astype(str)\n",
    "            .str.replace(symbol, \"\")\n",
    "            .str.replace(\",\", \"\")\n",
    "            .astype(\"float32\")\n",
    "        )\n",
    "\n",
    "\n",
    "def transform_datetime(df, columns):\n",
    "    # Convert date column to datetime type\n",
    "    for col in columns:\n",
    "        df[col] = pd.to_datetime(df[col], errors=\"coerce\")\n",
    "\n",
    "\n",
    "def transform_bool(df, columns):\n",
    "    # Transform the bool features\n",
    "    for col in columns:\n",
    "        df[col] = df[col].map({'t':1,'f':0}).astype('bool')\n",
    "\n",
    "\n",
    "def mean_missing_values(df, columns):\n",
    "    # Dealing with numerical missing values columns \n",
    "    for col in columns:\n",
    "        df[col].fillna(df[col].mean(), inplace=True)\n",
    "\n",
    "\n",
    "def mode_missing_values(df, columns):\n",
    "    # Dealing with categorical missing values columns \n",
    "    for col in columns:\n",
    "        df[col].fillna(df[col].mode()[0],inplace=True)\n",
    "\n",
    "\n",
    "def clean_text(text):\n",
    "    # Convert to lowercase\n",
    "    text = text.lower()\n",
    "    # Remove punctuation\n",
    "    text = text.translate(str.maketrans(\"\", \"\", string.punctuation))\n",
    "    # Remove stopwords\n",
    "    stop_words = set(stopwords.words(\"english\"))\n",
    "    words = word_tokenize(text)\n",
    "    text = \" \".join([word for word in words if word not in stop_words])\n",
    "    return text\n",
    "\n",
    "\n",
    "def get_sentiment_vader(text):\n",
    "    # Get the scores with Sentiment Analyzer Vader\n",
    "    sia = SentimentIntensityAnalyzer()\n",
    "    scores = sia.polarity_scores(text)\n",
    "    return scores[\"compound\"]\n",
    "\n",
    "\n",
    "def feeling_comments(df, feeling, samples):\n",
    "    # Print random feeling comments\n",
    "    print(f\"Random comments with {feeling} sentiment:\")\n",
    "    sample_comments = (\n",
    "        df.loc[df[\"sentiment_category_vader\"] == feeling, [\"comments\"]]\n",
    "        .sample(samples)\n",
    "        .values\n",
    "    )\n",
    "    for comment in sample_comments:\n",
    "        print(\"* \" + comment[0])\n"
   ]
  },
  {
   "cell_type": "markdown",
   "metadata": {},
   "source": [
    "## 2.2 Load datasets\n",
    "\n",
    "### Calendar Dataset"
   ]
  },
  {
   "cell_type": "code",
   "execution_count": 87,
   "metadata": {},
   "outputs": [
    {
     "name": "stdout",
     "output_type": "stream",
     "text": [
      "Number of rows and columns:  (1393570, 4)\n"
     ]
    },
    {
     "data": {
      "text/html": [
       "<div>\n",
       "<style scoped>\n",
       "    .dataframe tbody tr th:only-of-type {\n",
       "        vertical-align: middle;\n",
       "    }\n",
       "\n",
       "    .dataframe tbody tr th {\n",
       "        vertical-align: top;\n",
       "    }\n",
       "\n",
       "    .dataframe thead th {\n",
       "        text-align: right;\n",
       "    }\n",
       "</style>\n",
       "<table border=\"1\" class=\"dataframe\">\n",
       "  <thead>\n",
       "    <tr style=\"text-align: right;\">\n",
       "      <th></th>\n",
       "      <th>listing_id</th>\n",
       "      <th>date</th>\n",
       "      <th>available</th>\n",
       "      <th>price</th>\n",
       "    </tr>\n",
       "  </thead>\n",
       "  <tbody>\n",
       "    <tr>\n",
       "      <th>0</th>\n",
       "      <td>241032</td>\n",
       "      <td>2016-01-04</td>\n",
       "      <td>t</td>\n",
       "      <td>$85.00</td>\n",
       "    </tr>\n",
       "    <tr>\n",
       "      <th>1</th>\n",
       "      <td>241032</td>\n",
       "      <td>2016-01-05</td>\n",
       "      <td>t</td>\n",
       "      <td>$85.00</td>\n",
       "    </tr>\n",
       "    <tr>\n",
       "      <th>2</th>\n",
       "      <td>241032</td>\n",
       "      <td>2016-01-06</td>\n",
       "      <td>f</td>\n",
       "      <td>NaN</td>\n",
       "    </tr>\n",
       "    <tr>\n",
       "      <th>3</th>\n",
       "      <td>241032</td>\n",
       "      <td>2016-01-07</td>\n",
       "      <td>f</td>\n",
       "      <td>NaN</td>\n",
       "    </tr>\n",
       "    <tr>\n",
       "      <th>4</th>\n",
       "      <td>241032</td>\n",
       "      <td>2016-01-08</td>\n",
       "      <td>f</td>\n",
       "      <td>NaN</td>\n",
       "    </tr>\n",
       "  </tbody>\n",
       "</table>\n",
       "</div>"
      ],
      "text/plain": [
       "   listing_id        date available   price\n",
       "0      241032  2016-01-04         t  $85.00\n",
       "1      241032  2016-01-05         t  $85.00\n",
       "2      241032  2016-01-06         f     NaN\n",
       "3      241032  2016-01-07         f     NaN\n",
       "4      241032  2016-01-08         f     NaN"
      ]
     },
     "execution_count": 87,
     "metadata": {},
     "output_type": "execute_result"
    }
   ],
   "source": [
    "df_calendar = read_dataset('../data/calendar.csv')\n",
    "df_calendar.head()"
   ]
  },
  {
   "cell_type": "code",
   "execution_count": 88,
   "metadata": {},
   "outputs": [
    {
     "name": "stdout",
     "output_type": "stream",
     "text": [
      "Number of columns with missing data: 1\n"
     ]
    },
    {
     "data": {
      "text/html": [
       "<div>\n",
       "<style scoped>\n",
       "    .dataframe tbody tr th:only-of-type {\n",
       "        vertical-align: middle;\n",
       "    }\n",
       "\n",
       "    .dataframe tbody tr th {\n",
       "        vertical-align: top;\n",
       "    }\n",
       "\n",
       "    .dataframe thead th {\n",
       "        text-align: right;\n",
       "    }\n",
       "</style>\n",
       "<table border=\"1\" class=\"dataframe\">\n",
       "  <thead>\n",
       "    <tr style=\"text-align: right;\">\n",
       "      <th></th>\n",
       "      <th>No. Nulls</th>\n",
       "      <th>Nulls [%]</th>\n",
       "    </tr>\n",
       "  </thead>\n",
       "  <tbody>\n",
       "    <tr>\n",
       "      <th>price</th>\n",
       "      <td>459028</td>\n",
       "      <td>32.94</td>\n",
       "    </tr>\n",
       "  </tbody>\n",
       "</table>\n",
       "</div>"
      ],
      "text/plain": [
       "       No. Nulls  Nulls [%]\n",
       "price     459028      32.94"
      ]
     },
     "execution_count": 88,
     "metadata": {},
     "output_type": "execute_result"
    }
   ],
   "source": [
    "get_null_col(df_calendar)"
   ]
  },
  {
   "cell_type": "markdown",
   "metadata": {},
   "source": [
    "### Listings Dataset"
   ]
  },
  {
   "cell_type": "code",
   "execution_count": 89,
   "metadata": {},
   "outputs": [
    {
     "name": "stdout",
     "output_type": "stream",
     "text": [
      "Number of rows and columns:  (3818, 92)\n"
     ]
    },
    {
     "data": {
      "text/html": [
       "<div>\n",
       "<style scoped>\n",
       "    .dataframe tbody tr th:only-of-type {\n",
       "        vertical-align: middle;\n",
       "    }\n",
       "\n",
       "    .dataframe tbody tr th {\n",
       "        vertical-align: top;\n",
       "    }\n",
       "\n",
       "    .dataframe thead th {\n",
       "        text-align: right;\n",
       "    }\n",
       "</style>\n",
       "<table border=\"1\" class=\"dataframe\">\n",
       "  <thead>\n",
       "    <tr style=\"text-align: right;\">\n",
       "      <th></th>\n",
       "      <th>id</th>\n",
       "      <th>listing_url</th>\n",
       "      <th>scrape_id</th>\n",
       "      <th>last_scraped</th>\n",
       "      <th>name</th>\n",
       "      <th>summary</th>\n",
       "      <th>space</th>\n",
       "      <th>description</th>\n",
       "      <th>experiences_offered</th>\n",
       "      <th>neighborhood_overview</th>\n",
       "      <th>...</th>\n",
       "      <th>review_scores_value</th>\n",
       "      <th>requires_license</th>\n",
       "      <th>license</th>\n",
       "      <th>jurisdiction_names</th>\n",
       "      <th>instant_bookable</th>\n",
       "      <th>cancellation_policy</th>\n",
       "      <th>require_guest_profile_picture</th>\n",
       "      <th>require_guest_phone_verification</th>\n",
       "      <th>calculated_host_listings_count</th>\n",
       "      <th>reviews_per_month</th>\n",
       "    </tr>\n",
       "  </thead>\n",
       "  <tbody>\n",
       "    <tr>\n",
       "      <th>0</th>\n",
       "      <td>241032</td>\n",
       "      <td>https://www.airbnb.com/rooms/241032</td>\n",
       "      <td>20160104002432</td>\n",
       "      <td>2016-01-04</td>\n",
       "      <td>Stylish Queen Anne Apartment</td>\n",
       "      <td>NaN</td>\n",
       "      <td>Make your self at home in this charming one-be...</td>\n",
       "      <td>Make your self at home in this charming one-be...</td>\n",
       "      <td>none</td>\n",
       "      <td>NaN</td>\n",
       "      <td>...</td>\n",
       "      <td>10.0</td>\n",
       "      <td>f</td>\n",
       "      <td>NaN</td>\n",
       "      <td>WASHINGTON</td>\n",
       "      <td>f</td>\n",
       "      <td>moderate</td>\n",
       "      <td>f</td>\n",
       "      <td>f</td>\n",
       "      <td>2</td>\n",
       "      <td>4.07</td>\n",
       "    </tr>\n",
       "    <tr>\n",
       "      <th>1</th>\n",
       "      <td>953595</td>\n",
       "      <td>https://www.airbnb.com/rooms/953595</td>\n",
       "      <td>20160104002432</td>\n",
       "      <td>2016-01-04</td>\n",
       "      <td>Bright &amp; Airy Queen Anne Apartment</td>\n",
       "      <td>Chemically sensitive? We've removed the irrita...</td>\n",
       "      <td>Beautiful, hypoallergenic apartment in an extr...</td>\n",
       "      <td>Chemically sensitive? We've removed the irrita...</td>\n",
       "      <td>none</td>\n",
       "      <td>Queen Anne is a wonderful, truly functional vi...</td>\n",
       "      <td>...</td>\n",
       "      <td>10.0</td>\n",
       "      <td>f</td>\n",
       "      <td>NaN</td>\n",
       "      <td>WASHINGTON</td>\n",
       "      <td>f</td>\n",
       "      <td>strict</td>\n",
       "      <td>t</td>\n",
       "      <td>t</td>\n",
       "      <td>6</td>\n",
       "      <td>1.48</td>\n",
       "    </tr>\n",
       "    <tr>\n",
       "      <th>2</th>\n",
       "      <td>3308979</td>\n",
       "      <td>https://www.airbnb.com/rooms/3308979</td>\n",
       "      <td>20160104002432</td>\n",
       "      <td>2016-01-04</td>\n",
       "      <td>New Modern House-Amazing water view</td>\n",
       "      <td>New modern house built in 2013.  Spectacular s...</td>\n",
       "      <td>Our house is modern, light and fresh with a wa...</td>\n",
       "      <td>New modern house built in 2013.  Spectacular s...</td>\n",
       "      <td>none</td>\n",
       "      <td>Upper Queen Anne is a charming neighborhood fu...</td>\n",
       "      <td>...</td>\n",
       "      <td>10.0</td>\n",
       "      <td>f</td>\n",
       "      <td>NaN</td>\n",
       "      <td>WASHINGTON</td>\n",
       "      <td>f</td>\n",
       "      <td>strict</td>\n",
       "      <td>f</td>\n",
       "      <td>f</td>\n",
       "      <td>2</td>\n",
       "      <td>1.15</td>\n",
       "    </tr>\n",
       "    <tr>\n",
       "      <th>3</th>\n",
       "      <td>7421966</td>\n",
       "      <td>https://www.airbnb.com/rooms/7421966</td>\n",
       "      <td>20160104002432</td>\n",
       "      <td>2016-01-04</td>\n",
       "      <td>Queen Anne Chateau</td>\n",
       "      <td>A charming apartment that sits atop Queen Anne...</td>\n",
       "      <td>NaN</td>\n",
       "      <td>A charming apartment that sits atop Queen Anne...</td>\n",
       "      <td>none</td>\n",
       "      <td>NaN</td>\n",
       "      <td>...</td>\n",
       "      <td>NaN</td>\n",
       "      <td>f</td>\n",
       "      <td>NaN</td>\n",
       "      <td>WASHINGTON</td>\n",
       "      <td>f</td>\n",
       "      <td>flexible</td>\n",
       "      <td>f</td>\n",
       "      <td>f</td>\n",
       "      <td>1</td>\n",
       "      <td>NaN</td>\n",
       "    </tr>\n",
       "    <tr>\n",
       "      <th>4</th>\n",
       "      <td>278830</td>\n",
       "      <td>https://www.airbnb.com/rooms/278830</td>\n",
       "      <td>20160104002432</td>\n",
       "      <td>2016-01-04</td>\n",
       "      <td>Charming craftsman 3 bdm house</td>\n",
       "      <td>Cozy family craftman house in beautiful neighb...</td>\n",
       "      <td>Cozy family craftman house in beautiful neighb...</td>\n",
       "      <td>Cozy family craftman house in beautiful neighb...</td>\n",
       "      <td>none</td>\n",
       "      <td>We are in the beautiful neighborhood of Queen ...</td>\n",
       "      <td>...</td>\n",
       "      <td>9.0</td>\n",
       "      <td>f</td>\n",
       "      <td>NaN</td>\n",
       "      <td>WASHINGTON</td>\n",
       "      <td>f</td>\n",
       "      <td>strict</td>\n",
       "      <td>f</td>\n",
       "      <td>f</td>\n",
       "      <td>1</td>\n",
       "      <td>0.89</td>\n",
       "    </tr>\n",
       "  </tbody>\n",
       "</table>\n",
       "<p>5 rows × 92 columns</p>\n",
       "</div>"
      ],
      "text/plain": [
       "        id                           listing_url       scrape_id last_scraped  \\\n",
       "0   241032   https://www.airbnb.com/rooms/241032  20160104002432   2016-01-04   \n",
       "1   953595   https://www.airbnb.com/rooms/953595  20160104002432   2016-01-04   \n",
       "2  3308979  https://www.airbnb.com/rooms/3308979  20160104002432   2016-01-04   \n",
       "3  7421966  https://www.airbnb.com/rooms/7421966  20160104002432   2016-01-04   \n",
       "4   278830   https://www.airbnb.com/rooms/278830  20160104002432   2016-01-04   \n",
       "\n",
       "                                  name  \\\n",
       "0         Stylish Queen Anne Apartment   \n",
       "1   Bright & Airy Queen Anne Apartment   \n",
       "2  New Modern House-Amazing water view   \n",
       "3                   Queen Anne Chateau   \n",
       "4       Charming craftsman 3 bdm house   \n",
       "\n",
       "                                             summary  \\\n",
       "0                                                NaN   \n",
       "1  Chemically sensitive? We've removed the irrita...   \n",
       "2  New modern house built in 2013.  Spectacular s...   \n",
       "3  A charming apartment that sits atop Queen Anne...   \n",
       "4  Cozy family craftman house in beautiful neighb...   \n",
       "\n",
       "                                               space  \\\n",
       "0  Make your self at home in this charming one-be...   \n",
       "1  Beautiful, hypoallergenic apartment in an extr...   \n",
       "2  Our house is modern, light and fresh with a wa...   \n",
       "3                                                NaN   \n",
       "4  Cozy family craftman house in beautiful neighb...   \n",
       "\n",
       "                                         description experiences_offered  \\\n",
       "0  Make your self at home in this charming one-be...                none   \n",
       "1  Chemically sensitive? We've removed the irrita...                none   \n",
       "2  New modern house built in 2013.  Spectacular s...                none   \n",
       "3  A charming apartment that sits atop Queen Anne...                none   \n",
       "4  Cozy family craftman house in beautiful neighb...                none   \n",
       "\n",
       "                               neighborhood_overview  ... review_scores_value  \\\n",
       "0                                                NaN  ...                10.0   \n",
       "1  Queen Anne is a wonderful, truly functional vi...  ...                10.0   \n",
       "2  Upper Queen Anne is a charming neighborhood fu...  ...                10.0   \n",
       "3                                                NaN  ...                 NaN   \n",
       "4  We are in the beautiful neighborhood of Queen ...  ...                 9.0   \n",
       "\n",
       "  requires_license license jurisdiction_names instant_bookable  \\\n",
       "0                f     NaN         WASHINGTON                f   \n",
       "1                f     NaN         WASHINGTON                f   \n",
       "2                f     NaN         WASHINGTON                f   \n",
       "3                f     NaN         WASHINGTON                f   \n",
       "4                f     NaN         WASHINGTON                f   \n",
       "\n",
       "  cancellation_policy  require_guest_profile_picture  \\\n",
       "0            moderate                              f   \n",
       "1              strict                              t   \n",
       "2              strict                              f   \n",
       "3            flexible                              f   \n",
       "4              strict                              f   \n",
       "\n",
       "  require_guest_phone_verification calculated_host_listings_count  \\\n",
       "0                                f                              2   \n",
       "1                                t                              6   \n",
       "2                                f                              2   \n",
       "3                                f                              1   \n",
       "4                                f                              1   \n",
       "\n",
       "  reviews_per_month  \n",
       "0              4.07  \n",
       "1              1.48  \n",
       "2              1.15  \n",
       "3               NaN  \n",
       "4              0.89  \n",
       "\n",
       "[5 rows x 92 columns]"
      ]
     },
     "execution_count": 89,
     "metadata": {},
     "output_type": "execute_result"
    }
   ],
   "source": [
    "df_listings = read_dataset('../data/listings.csv')\n",
    "df_listings.head()"
   ]
  },
  {
   "cell_type": "code",
   "execution_count": 90,
   "metadata": {},
   "outputs": [
    {
     "name": "stdout",
     "output_type": "stream",
     "text": [
      "Number of columns with missing data: 46\n"
     ]
    },
    {
     "data": {
      "text/html": [
       "<div>\n",
       "<style scoped>\n",
       "    .dataframe tbody tr th:only-of-type {\n",
       "        vertical-align: middle;\n",
       "    }\n",
       "\n",
       "    .dataframe tbody tr th {\n",
       "        vertical-align: top;\n",
       "    }\n",
       "\n",
       "    .dataframe thead th {\n",
       "        text-align: right;\n",
       "    }\n",
       "</style>\n",
       "<table border=\"1\" class=\"dataframe\">\n",
       "  <thead>\n",
       "    <tr style=\"text-align: right;\">\n",
       "      <th></th>\n",
       "      <th>No. Nulls</th>\n",
       "      <th>Nulls [%]</th>\n",
       "    </tr>\n",
       "  </thead>\n",
       "  <tbody>\n",
       "    <tr>\n",
       "      <th>license</th>\n",
       "      <td>3818</td>\n",
       "      <td>100.00</td>\n",
       "    </tr>\n",
       "    <tr>\n",
       "      <th>square_feet</th>\n",
       "      <td>3721</td>\n",
       "      <td>97.46</td>\n",
       "    </tr>\n",
       "    <tr>\n",
       "      <th>monthly_price</th>\n",
       "      <td>2301</td>\n",
       "      <td>60.27</td>\n",
       "    </tr>\n",
       "    <tr>\n",
       "      <th>security_deposit</th>\n",
       "      <td>1952</td>\n",
       "      <td>51.13</td>\n",
       "    </tr>\n",
       "    <tr>\n",
       "      <th>weekly_price</th>\n",
       "      <td>1809</td>\n",
       "      <td>47.38</td>\n",
       "    </tr>\n",
       "    <tr>\n",
       "      <th>notes</th>\n",
       "      <td>1606</td>\n",
       "      <td>42.06</td>\n",
       "    </tr>\n",
       "    <tr>\n",
       "      <th>neighborhood_overview</th>\n",
       "      <td>1032</td>\n",
       "      <td>27.03</td>\n",
       "    </tr>\n",
       "    <tr>\n",
       "      <th>cleaning_fee</th>\n",
       "      <td>1030</td>\n",
       "      <td>26.98</td>\n",
       "    </tr>\n",
       "    <tr>\n",
       "      <th>transit</th>\n",
       "      <td>934</td>\n",
       "      <td>24.46</td>\n",
       "    </tr>\n",
       "    <tr>\n",
       "      <th>host_about</th>\n",
       "      <td>859</td>\n",
       "      <td>22.50</td>\n",
       "    </tr>\n",
       "    <tr>\n",
       "      <th>host_acceptance_rate</th>\n",
       "      <td>773</td>\n",
       "      <td>20.25</td>\n",
       "    </tr>\n",
       "    <tr>\n",
       "      <th>review_scores_accuracy</th>\n",
       "      <td>658</td>\n",
       "      <td>17.23</td>\n",
       "    </tr>\n",
       "    <tr>\n",
       "      <th>review_scores_checkin</th>\n",
       "      <td>658</td>\n",
       "      <td>17.23</td>\n",
       "    </tr>\n",
       "    <tr>\n",
       "      <th>review_scores_value</th>\n",
       "      <td>656</td>\n",
       "      <td>17.18</td>\n",
       "    </tr>\n",
       "    <tr>\n",
       "      <th>review_scores_location</th>\n",
       "      <td>655</td>\n",
       "      <td>17.16</td>\n",
       "    </tr>\n",
       "    <tr>\n",
       "      <th>review_scores_cleanliness</th>\n",
       "      <td>653</td>\n",
       "      <td>17.10</td>\n",
       "    </tr>\n",
       "    <tr>\n",
       "      <th>review_scores_communication</th>\n",
       "      <td>651</td>\n",
       "      <td>17.05</td>\n",
       "    </tr>\n",
       "    <tr>\n",
       "      <th>review_scores_rating</th>\n",
       "      <td>647</td>\n",
       "      <td>16.95</td>\n",
       "    </tr>\n",
       "    <tr>\n",
       "      <th>last_review</th>\n",
       "      <td>627</td>\n",
       "      <td>16.42</td>\n",
       "    </tr>\n",
       "    <tr>\n",
       "      <th>first_review</th>\n",
       "      <td>627</td>\n",
       "      <td>16.42</td>\n",
       "    </tr>\n",
       "    <tr>\n",
       "      <th>reviews_per_month</th>\n",
       "      <td>627</td>\n",
       "      <td>16.42</td>\n",
       "    </tr>\n",
       "    <tr>\n",
       "      <th>space</th>\n",
       "      <td>569</td>\n",
       "      <td>14.90</td>\n",
       "    </tr>\n",
       "    <tr>\n",
       "      <th>host_response_rate</th>\n",
       "      <td>523</td>\n",
       "      <td>13.70</td>\n",
       "    </tr>\n",
       "    <tr>\n",
       "      <th>host_response_time</th>\n",
       "      <td>523</td>\n",
       "      <td>13.70</td>\n",
       "    </tr>\n",
       "    <tr>\n",
       "      <th>neighbourhood</th>\n",
       "      <td>416</td>\n",
       "      <td>10.90</td>\n",
       "    </tr>\n",
       "    <tr>\n",
       "      <th>xl_picture_url</th>\n",
       "      <td>320</td>\n",
       "      <td>8.38</td>\n",
       "    </tr>\n",
       "    <tr>\n",
       "      <th>medium_url</th>\n",
       "      <td>320</td>\n",
       "      <td>8.38</td>\n",
       "    </tr>\n",
       "    <tr>\n",
       "      <th>thumbnail_url</th>\n",
       "      <td>320</td>\n",
       "      <td>8.38</td>\n",
       "    </tr>\n",
       "    <tr>\n",
       "      <th>host_neighbourhood</th>\n",
       "      <td>300</td>\n",
       "      <td>7.86</td>\n",
       "    </tr>\n",
       "    <tr>\n",
       "      <th>summary</th>\n",
       "      <td>177</td>\n",
       "      <td>4.64</td>\n",
       "    </tr>\n",
       "    <tr>\n",
       "      <th>bathrooms</th>\n",
       "      <td>16</td>\n",
       "      <td>0.42</td>\n",
       "    </tr>\n",
       "    <tr>\n",
       "      <th>host_location</th>\n",
       "      <td>8</td>\n",
       "      <td>0.21</td>\n",
       "    </tr>\n",
       "    <tr>\n",
       "      <th>zipcode</th>\n",
       "      <td>7</td>\n",
       "      <td>0.18</td>\n",
       "    </tr>\n",
       "    <tr>\n",
       "      <th>bedrooms</th>\n",
       "      <td>6</td>\n",
       "      <td>0.16</td>\n",
       "    </tr>\n",
       "    <tr>\n",
       "      <th>host_has_profile_pic</th>\n",
       "      <td>2</td>\n",
       "      <td>0.05</td>\n",
       "    </tr>\n",
       "    <tr>\n",
       "      <th>host_verifications</th>\n",
       "      <td>2</td>\n",
       "      <td>0.05</td>\n",
       "    </tr>\n",
       "    <tr>\n",
       "      <th>host_total_listings_count</th>\n",
       "      <td>2</td>\n",
       "      <td>0.05</td>\n",
       "    </tr>\n",
       "    <tr>\n",
       "      <th>host_listings_count</th>\n",
       "      <td>2</td>\n",
       "      <td>0.05</td>\n",
       "    </tr>\n",
       "    <tr>\n",
       "      <th>host_picture_url</th>\n",
       "      <td>2</td>\n",
       "      <td>0.05</td>\n",
       "    </tr>\n",
       "    <tr>\n",
       "      <th>host_thumbnail_url</th>\n",
       "      <td>2</td>\n",
       "      <td>0.05</td>\n",
       "    </tr>\n",
       "    <tr>\n",
       "      <th>host_is_superhost</th>\n",
       "      <td>2</td>\n",
       "      <td>0.05</td>\n",
       "    </tr>\n",
       "    <tr>\n",
       "      <th>host_since</th>\n",
       "      <td>2</td>\n",
       "      <td>0.05</td>\n",
       "    </tr>\n",
       "    <tr>\n",
       "      <th>host_name</th>\n",
       "      <td>2</td>\n",
       "      <td>0.05</td>\n",
       "    </tr>\n",
       "    <tr>\n",
       "      <th>host_identity_verified</th>\n",
       "      <td>2</td>\n",
       "      <td>0.05</td>\n",
       "    </tr>\n",
       "    <tr>\n",
       "      <th>beds</th>\n",
       "      <td>1</td>\n",
       "      <td>0.03</td>\n",
       "    </tr>\n",
       "    <tr>\n",
       "      <th>property_type</th>\n",
       "      <td>1</td>\n",
       "      <td>0.03</td>\n",
       "    </tr>\n",
       "  </tbody>\n",
       "</table>\n",
       "</div>"
      ],
      "text/plain": [
       "                             No. Nulls  Nulls [%]\n",
       "license                           3818     100.00\n",
       "square_feet                       3721      97.46\n",
       "monthly_price                     2301      60.27\n",
       "security_deposit                  1952      51.13\n",
       "weekly_price                      1809      47.38\n",
       "notes                             1606      42.06\n",
       "neighborhood_overview             1032      27.03\n",
       "cleaning_fee                      1030      26.98\n",
       "transit                            934      24.46\n",
       "host_about                         859      22.50\n",
       "host_acceptance_rate               773      20.25\n",
       "review_scores_accuracy             658      17.23\n",
       "review_scores_checkin              658      17.23\n",
       "review_scores_value                656      17.18\n",
       "review_scores_location             655      17.16\n",
       "review_scores_cleanliness          653      17.10\n",
       "review_scores_communication        651      17.05\n",
       "review_scores_rating               647      16.95\n",
       "last_review                        627      16.42\n",
       "first_review                       627      16.42\n",
       "reviews_per_month                  627      16.42\n",
       "space                              569      14.90\n",
       "host_response_rate                 523      13.70\n",
       "host_response_time                 523      13.70\n",
       "neighbourhood                      416      10.90\n",
       "xl_picture_url                     320       8.38\n",
       "medium_url                         320       8.38\n",
       "thumbnail_url                      320       8.38\n",
       "host_neighbourhood                 300       7.86\n",
       "summary                            177       4.64\n",
       "bathrooms                           16       0.42\n",
       "host_location                        8       0.21\n",
       "zipcode                              7       0.18\n",
       "bedrooms                             6       0.16\n",
       "host_has_profile_pic                 2       0.05\n",
       "host_verifications                   2       0.05\n",
       "host_total_listings_count            2       0.05\n",
       "host_listings_count                  2       0.05\n",
       "host_picture_url                     2       0.05\n",
       "host_thumbnail_url                   2       0.05\n",
       "host_is_superhost                    2       0.05\n",
       "host_since                           2       0.05\n",
       "host_name                            2       0.05\n",
       "host_identity_verified               2       0.05\n",
       "beds                                 1       0.03\n",
       "property_type                        1       0.03"
      ]
     },
     "execution_count": 90,
     "metadata": {},
     "output_type": "execute_result"
    }
   ],
   "source": [
    "get_null_col(df_listings)"
   ]
  },
  {
   "cell_type": "code",
   "execution_count": 91,
   "metadata": {},
   "outputs": [
    {
     "name": "stdout",
     "output_type": "stream",
     "text": [
      "Number of rows and columns:  (84849, 6)\n"
     ]
    },
    {
     "data": {
      "text/html": [
       "<div>\n",
       "<style scoped>\n",
       "    .dataframe tbody tr th:only-of-type {\n",
       "        vertical-align: middle;\n",
       "    }\n",
       "\n",
       "    .dataframe tbody tr th {\n",
       "        vertical-align: top;\n",
       "    }\n",
       "\n",
       "    .dataframe thead th {\n",
       "        text-align: right;\n",
       "    }\n",
       "</style>\n",
       "<table border=\"1\" class=\"dataframe\">\n",
       "  <thead>\n",
       "    <tr style=\"text-align: right;\">\n",
       "      <th></th>\n",
       "      <th>listing_id</th>\n",
       "      <th>id</th>\n",
       "      <th>date</th>\n",
       "      <th>reviewer_id</th>\n",
       "      <th>reviewer_name</th>\n",
       "      <th>comments</th>\n",
       "    </tr>\n",
       "  </thead>\n",
       "  <tbody>\n",
       "    <tr>\n",
       "      <th>0</th>\n",
       "      <td>7202016</td>\n",
       "      <td>38917982</td>\n",
       "      <td>2015-07-19</td>\n",
       "      <td>28943674</td>\n",
       "      <td>Bianca</td>\n",
       "      <td>Cute and cozy place. Perfect location to every...</td>\n",
       "    </tr>\n",
       "    <tr>\n",
       "      <th>1</th>\n",
       "      <td>7202016</td>\n",
       "      <td>39087409</td>\n",
       "      <td>2015-07-20</td>\n",
       "      <td>32440555</td>\n",
       "      <td>Frank</td>\n",
       "      <td>Kelly has a great room in a very central locat...</td>\n",
       "    </tr>\n",
       "    <tr>\n",
       "      <th>2</th>\n",
       "      <td>7202016</td>\n",
       "      <td>39820030</td>\n",
       "      <td>2015-07-26</td>\n",
       "      <td>37722850</td>\n",
       "      <td>Ian</td>\n",
       "      <td>Very spacious apartment, and in a great neighb...</td>\n",
       "    </tr>\n",
       "    <tr>\n",
       "      <th>3</th>\n",
       "      <td>7202016</td>\n",
       "      <td>40813543</td>\n",
       "      <td>2015-08-02</td>\n",
       "      <td>33671805</td>\n",
       "      <td>George</td>\n",
       "      <td>Close to Seattle Center and all it has to offe...</td>\n",
       "    </tr>\n",
       "    <tr>\n",
       "      <th>4</th>\n",
       "      <td>7202016</td>\n",
       "      <td>41986501</td>\n",
       "      <td>2015-08-10</td>\n",
       "      <td>34959538</td>\n",
       "      <td>Ming</td>\n",
       "      <td>Kelly was a great host and very accommodating ...</td>\n",
       "    </tr>\n",
       "  </tbody>\n",
       "</table>\n",
       "</div>"
      ],
      "text/plain": [
       "   listing_id        id        date  reviewer_id reviewer_name  \\\n",
       "0     7202016  38917982  2015-07-19     28943674        Bianca   \n",
       "1     7202016  39087409  2015-07-20     32440555         Frank   \n",
       "2     7202016  39820030  2015-07-26     37722850           Ian   \n",
       "3     7202016  40813543  2015-08-02     33671805        George   \n",
       "4     7202016  41986501  2015-08-10     34959538          Ming   \n",
       "\n",
       "                                            comments  \n",
       "0  Cute and cozy place. Perfect location to every...  \n",
       "1  Kelly has a great room in a very central locat...  \n",
       "2  Very spacious apartment, and in a great neighb...  \n",
       "3  Close to Seattle Center and all it has to offe...  \n",
       "4  Kelly was a great host and very accommodating ...  "
      ]
     },
     "execution_count": 91,
     "metadata": {},
     "output_type": "execute_result"
    }
   ],
   "source": [
    "df_reviews = read_dataset('../data/reviews.csv')\n",
    "df_reviews.head()"
   ]
  },
  {
   "cell_type": "code",
   "execution_count": 92,
   "metadata": {},
   "outputs": [
    {
     "name": "stdout",
     "output_type": "stream",
     "text": [
      "Number of columns with missing data: 1\n"
     ]
    },
    {
     "data": {
      "text/html": [
       "<div>\n",
       "<style scoped>\n",
       "    .dataframe tbody tr th:only-of-type {\n",
       "        vertical-align: middle;\n",
       "    }\n",
       "\n",
       "    .dataframe tbody tr th {\n",
       "        vertical-align: top;\n",
       "    }\n",
       "\n",
       "    .dataframe thead th {\n",
       "        text-align: right;\n",
       "    }\n",
       "</style>\n",
       "<table border=\"1\" class=\"dataframe\">\n",
       "  <thead>\n",
       "    <tr style=\"text-align: right;\">\n",
       "      <th></th>\n",
       "      <th>No. Nulls</th>\n",
       "      <th>Nulls [%]</th>\n",
       "    </tr>\n",
       "  </thead>\n",
       "  <tbody>\n",
       "    <tr>\n",
       "      <th>comments</th>\n",
       "      <td>18</td>\n",
       "      <td>0.02</td>\n",
       "    </tr>\n",
       "  </tbody>\n",
       "</table>\n",
       "</div>"
      ],
      "text/plain": [
       "          No. Nulls  Nulls [%]\n",
       "comments         18       0.02"
      ]
     },
     "execution_count": 92,
     "metadata": {},
     "output_type": "execute_result"
    }
   ],
   "source": [
    "get_null_col(df_reviews)"
   ]
  },
  {
   "cell_type": "markdown",
   "metadata": {},
   "source": [
    "- `df_calendar` has 1393570 lines and 4 columns. The number of columns with missing data is 1 with 32.94% missing values.\n",
    "- `df_listings` has 3818 lines and 92 columns. The number of columns with missing data is 46 between 0.03% and 100% missing values.\n",
    "- `df_reviews` has 84849 lines and 6 columns. The number of columns with missing data is 1 with 0.02% missing values."
   ]
  },
  {
   "cell_type": "markdown",
   "metadata": {},
   "source": [
    "## 3. Data Preparation\n",
    "\n",
    "*Objective: Clean and transform data so that it is ready for analysis or modeling.*\n",
    "\n",
    "### Calendar Dataset"
   ]
  },
  {
   "cell_type": "code",
   "execution_count": 93,
   "metadata": {},
   "outputs": [],
   "source": [
    "# Clear and convert 'price' column\n",
    "remove_symbol(df_calendar, \"$\", [\"price\"])\n",
    "\n",
    "# Dealing with numerical missing values columns \n",
    "mean_missing_values(df_calendar, [\"price\"])\n",
    "\n",
    "# Convert date column to datetime type\n",
    "transform_datetime(df_calendar, [\"date\"])\n",
    "\n",
    "# Create new columns for month and year\n",
    "df_calendar[\"month\"] = df_calendar[\"date\"].dt.month\n",
    "df_calendar[\"year\"] = df_calendar[\"date\"].dt.year\n",
    "\n",
    "# Convert the available column to 1 or 0\n",
    "transform_bool(df_calendar, [\"available\"])"
   ]
  },
  {
   "cell_type": "code",
   "execution_count": 94,
   "metadata": {},
   "outputs": [
    {
     "name": "stdout",
     "output_type": "stream",
     "text": [
      "Columns with more than 50% null values: 0\n",
      "Columns with a unique value: 0\n",
      "Duplicate column: 0\n",
      "df cleaned: (1393570, 6)\n"
     ]
    }
   ],
   "source": [
    "# Treatment of null values\n",
    "calendar_cleaned = drop_cols(df_calendar)"
   ]
  },
  {
   "cell_type": "code",
   "execution_count": 95,
   "metadata": {},
   "outputs": [
    {
     "name": "stdout",
     "output_type": "stream",
     "text": [
      "No missing data\n"
     ]
    }
   ],
   "source": [
    "# Check for null values ​​after cleanup\n",
    "get_null_col(calendar_cleaned)"
   ]
  },
  {
   "cell_type": "markdown",
   "metadata": {},
   "source": [
    "#### Exploratory analysis\n",
    "\n",
    "- **Q1. Identify temporal patterns in reserves and prices**"
   ]
  },
  {
   "cell_type": "code",
   "execution_count": 96,
   "metadata": {},
   "outputs": [
    {
     "data": {
      "image/png": "[encoded data removed]",
      "text/plain": [
       "<Figure size 600x300 with 1 Axes>"
      ]
     },
     "metadata": {},
     "output_type": "display_data"
    }
   ],
   "source": [
    "# Calculate monthly occupancy rate\n",
    "occupancy_rate = (\n",
    "    calendar_cleaned.groupby([\"year\", \"month\", \"listing_id\"])[\"available\"]\n",
    "    .mean()\n",
    "    .reset_index()\n",
    ")\n",
    "occupancy_rate[\"occupancy_rate\"] = 1 - occupancy_rate[\"available\"]\n",
    "occupancy_rate = occupancy_rate.drop(\"available\", axis=1)\n",
    "monthly_occupancy = (\n",
    "    occupancy_rate.groupby([\"year\", \"month\"])[\"occupancy_rate\"]\n",
    "    .mean()\n",
    "    .reset_index()\n",
    ")\n",
    "\n",
    "# Create a date column from the year and month\n",
    "monthly_occupancy[\"date\"] = pd.to_datetime(\n",
    "    monthly_occupancy[[\"year\", \"month\"]].assign(day=1)\n",
    ")\n",
    "\n",
    "# Graph monthly occupancy rate\n",
    "plt.figure(figsize=(6, 3))\n",
    "sns.lineplot(data=monthly_occupancy, x=\"date\", y=\"occupancy_rate\", marker='o')\n",
    "plt.xlabel(\"Date\")\n",
    "plt.ylabel(\"Occupancy Rate\")\n",
    "plt.title(\"Monthly Occupancy Rate\")\n",
    "plt.grid(True)\n",
    "plt.show()"
   ]
  },
  {
   "cell_type": "code",
   "execution_count": 97,
   "metadata": {},
   "outputs": [
    {
     "data": {
      "image/png": "[encoded data removed]",
      "text/plain": [
       "<Figure size 600x300 with 1 Axes>"
      ]
     },
     "metadata": {},
     "output_type": "display_data"
    }
   ],
   "source": [
    "# Calculate monthly average price\n",
    "avg_price_per_month = (\n",
    "    calendar_cleaned.groupby([\"year\", \"month\"])[\"price\"].mean().reset_index()\n",
    ")\n",
    "\n",
    "# Create a date column from the year and month\n",
    "avg_price_per_month[\"date\"] = pd.to_datetime(\n",
    "    avg_price_per_month[[\"year\", \"month\"]].assign(day=1)\n",
    ")\n",
    "\n",
    "# Graph price trend\n",
    "plt.figure(figsize=(6, 3))\n",
    "sns.lineplot(data=avg_price_per_month, x=\"date\", y=\"price\", marker='o')\n",
    "plt.xlabel(\"Month\")\n",
    "plt.ylabel(\"Average Price\")\n",
    "plt.title(\"Average Price Per Month\")\n",
    "plt.grid(True)\n",
    "plt.show()"
   ]
  },
  {
   "cell_type": "markdown",
   "metadata": {},
   "source": [
    "#### Analysis of Results\n",
    "\n",
    "- **Occupancy Rate**: The occupancy rate in Seattle shows distinct temporal\n",
    "  patterns. The highest occupancy rate was observed in January 2016, which then\n",
    "  decreased until March 2016. However, there was another increase in July 2016,\n",
    "  starting from March 2016, which then began to decline until January 2017. This\n",
    "  indicates a seasonal trend with peaks in winter (January) and summer (July),\n",
    "  followed by gradual decreases.\n",
    "\n",
    "- **Prices**: The average monthly prices also exhibit a temporal pattern.\n",
    "  January 2016 had the lowest average price, which then increased steadily until\n",
    "  July 2016. After July, prices slightly decreased until November 2016 and\n",
    "  remained stable through January 2017. This suggests that prices tend to rise\n",
    "  during periods of higher occupancy and demand, peaking in the summer.\n",
    "\n",
    "The analysis reveals a relationship between occupancy rates and prices. Both\n",
    "show seasonal trends with peaks in July and January, although prices lag\n",
    "slightly behind occupancy rates. This correlation suggests that higher occupancy\n",
    "rates, likely driven by seasonal demand, are associated with higher prices. This\n",
    "pattern can be used to inform pricing and availability strategies for Airbnb\n",
    "hosts in Seattle."
   ]
  },
  {
   "cell_type": "markdown",
   "metadata": {},
   "source": [
    "### Listings Dataset"
   ]
  },
  {
   "cell_type": "code",
   "execution_count": 98,
   "metadata": {},
   "outputs": [
    {
     "name": "stdout",
     "output_type": "stream",
     "text": [
      "Columns with more than 50% null values: 4\n",
      "Drop columns: Index(['square_feet', 'monthly_price', 'security_deposit', 'license'], dtype='object')\n",
      "Columns with a unique value: 10\n",
      "Drop columns: ['scrape_id', 'last_scraped', 'experiences_offered', 'market', 'country_code', 'country', 'has_availability', 'calendar_last_scraped', 'requires_license', 'jurisdiction_names']\n",
      "Duplicate column: 1\n",
      "df cleaned: (3818, 77)\n"
     ]
    }
   ],
   "source": [
    "# Treatment of null values\n",
    "listings_cleaned = drop_cols(df_listings)"
   ]
  },
  {
   "cell_type": "code",
   "execution_count": 99,
   "metadata": {},
   "outputs": [
    {
     "name": "stdout",
     "output_type": "stream",
     "text": [
      "Columns with less than 10 null values: 14\n",
      "['host_name', 'host_since', 'host_location', 'host_is_superhost', 'host_thumbnail_url', 'host_picture_url', 'host_listings_count', 'host_verifications', 'host_has_profile_pic', 'host_identity_verified', 'zipcode', 'property_type', 'bedrooms', 'beds']\n",
      "df cleaned: (3795, 77)\n"
     ]
    }
   ],
   "source": [
    "# Treatment of null values\n",
    "listings_cleaned = drop_rows(listings_cleaned, 10)"
   ]
  },
  {
   "cell_type": "code",
   "execution_count": 100,
   "metadata": {},
   "outputs": [
    {
     "name": "stdout",
     "output_type": "stream",
     "text": [
      "Columns with 'url' in their name:\n",
      "['listing_url', 'thumbnail_url', 'medium_url', 'picture_url', 'xl_picture_url', 'host_url', 'host_thumbnail_url', 'host_picture_url']\n",
      "(3795, 69)\n"
     ]
    }
   ],
   "source": [
    "# Identify columns that contain \"url\" in their name\n",
    "url_columns = [col for col in listings_cleaned.columns if \"url\" in col.lower()]\n",
    "print(\"Columns with 'url' in their name:\")\n",
    "print(url_columns)\n",
    "\n",
    "# Remove columns that contain \"url\" in their name\n",
    "listings_cleaned = listings_cleaned.drop(columns=url_columns, axis=1)\n",
    "print(listings_cleaned.shape)"
   ]
  },
  {
   "cell_type": "code",
   "execution_count": 101,
   "metadata": {},
   "outputs": [
    {
     "name": "stdout",
     "output_type": "stream",
     "text": [
      "Index(['id', 'name', 'summary', 'space', 'description',\n",
      "       'neighborhood_overview', 'notes', 'transit', 'host_id', 'host_name',\n",
      "       'host_since', 'host_location', 'host_about', 'host_response_time',\n",
      "       'host_response_rate', 'host_acceptance_rate', 'host_is_superhost',\n",
      "       'host_neighbourhood', 'host_listings_count', 'host_verifications',\n",
      "       'host_has_profile_pic', 'host_identity_verified', 'street',\n",
      "       'neighbourhood', 'neighbourhood_cleansed',\n",
      "       'neighbourhood_group_cleansed', 'city', 'state', 'zipcode',\n",
      "       'smart_location', 'latitude', 'longitude', 'is_location_exact',\n",
      "       'property_type', 'room_type', 'accommodates', 'bathrooms', 'bedrooms',\n",
      "       'beds', 'bed_type', 'amenities', 'price', 'weekly_price',\n",
      "       'cleaning_fee', 'guests_included', 'extra_people', 'minimum_nights',\n",
      "       'maximum_nights', 'calendar_updated', 'availability_30',\n",
      "       'availability_60', 'availability_90', 'availability_365',\n",
      "       'number_of_reviews', 'first_review', 'last_review',\n",
      "       'review_scores_rating', 'review_scores_accuracy',\n",
      "       'review_scores_cleanliness', 'review_scores_checkin',\n",
      "       'review_scores_communication', 'review_scores_location',\n",
      "       'review_scores_value', 'instant_bookable', 'cancellation_policy',\n",
      "       'require_guest_profile_picture', 'require_guest_phone_verification',\n",
      "       'calculated_host_listings_count', 'reviews_per_month'],\n",
      "      dtype='object')\n"
     ]
    }
   ],
   "source": [
    "# Check remaining columns after removing null values\n",
    "print(listings_cleaned.columns)"
   ]
  },
  {
   "cell_type": "code",
   "execution_count": 102,
   "metadata": {},
   "outputs": [
    {
     "data": {
      "text/plain": [
       "(3795, 43)"
      ]
     },
     "execution_count": 102,
     "metadata": {},
     "output_type": "execute_result"
    }
   ],
   "source": [
    "# Feature selection\n",
    "host_features = ['host_since','host_response_time','host_response_rate','host_acceptance_rate','host_is_superhost', 'host_listings_count','host_verifications','host_has_profile_pic','host_identity_verified', 'calculated_host_listings_count']\n",
    "\n",
    "review_features = ['instant_bookable','cancellation_policy','require_guest_profile_picture','require_guest_phone_verification','reviews_per_month','number_of_reviews','first_review','last_review','review_scores_rating','review_scores_accuracy','review_scores_cleanliness','review_scores_checkin','review_scores_communication','review_scores_location','review_scores_value']\n",
    "\n",
    "property_features = ['neighbourhood','latitude','longitude','is_location_exact',\n",
    "                     'property_type','room_type','accommodates','bathrooms','bedrooms','beds','bed_type',\n",
    "                     'amenities','price','cleaning_fee',\n",
    "                     'guests_included','extra_people','minimum_nights','maximum_nights']\n",
    "\n",
    "features = host_features + review_features + property_features\n",
    "listings_filtered = listings_cleaned.filter(features, axis=1)\n",
    "listings_filtered.shape"
   ]
  },
  {
   "cell_type": "code",
   "execution_count": 103,
   "metadata": {},
   "outputs": [],
   "source": [
    "# Remove symbols\n",
    "remove_symbol(listings_filtered, \"$\", [\"price\", \"cleaning_fee\", \"extra_people\"])\n",
    "remove_symbol(listings_filtered, \"%\", [\"host_response_rate\", \"host_acceptance_rate\"])\n",
    "\n",
    "# Convert date column to datetime type\n",
    "transform_datetime(listings_filtered, [\"host_since\", \"first_review\", \"last_review\"])"
   ]
  },
  {
   "cell_type": "code",
   "execution_count": 104,
   "metadata": {},
   "outputs": [],
   "source": [
    "# Reformat other features\n",
    "listings_filtered['host_response_time'] = listings_filtered.host_response_time.map(\n",
    "    {\"within an hour\":1,\"within a few hours\":12, \"within a day\":24, \"a few days or more\":48}\n",
    "    )\n",
    "listings_filtered['cancellation_policy'] = listings_filtered['cancellation_policy'].map({'strict':0,'moderate':1,'flexible':2})"
   ]
  },
  {
   "cell_type": "code",
   "execution_count": 105,
   "metadata": {},
   "outputs": [],
   "source": [
    "# Transform the bool features\n",
    "bool_features =[\"host_is_superhost\", \n",
    "\"host_has_profile_pic\", \n",
    "\"host_identity_verified\", \n",
    "\"instant_bookable\", \n",
    "\"require_guest_profile_picture\", \n",
    "\"require_guest_phone_verification\", \n",
    "\"require_guest_profile_picture\", \n",
    "\"require_guest_phone_verification\", \n",
    "\"is_location_exact\" ]\n",
    "\n",
    "transform_bool(listings_filtered, bool_features)"
   ]
  },
  {
   "cell_type": "code",
   "execution_count": 106,
   "metadata": {},
   "outputs": [
    {
     "name": "stdout",
     "output_type": "stream",
     "text": [
      "Number of columns with missing data: 16\n"
     ]
    },
    {
     "data": {
      "text/html": [
       "<div>\n",
       "<style scoped>\n",
       "    .dataframe tbody tr th:only-of-type {\n",
       "        vertical-align: middle;\n",
       "    }\n",
       "\n",
       "    .dataframe tbody tr th {\n",
       "        vertical-align: top;\n",
       "    }\n",
       "\n",
       "    .dataframe thead th {\n",
       "        text-align: right;\n",
       "    }\n",
       "</style>\n",
       "<table border=\"1\" class=\"dataframe\">\n",
       "  <thead>\n",
       "    <tr style=\"text-align: right;\">\n",
       "      <th></th>\n",
       "      <th>No. Nulls</th>\n",
       "      <th>Nulls [%]</th>\n",
       "    </tr>\n",
       "  </thead>\n",
       "  <tbody>\n",
       "    <tr>\n",
       "      <th>cleaning_fee</th>\n",
       "      <td>1018</td>\n",
       "      <td>26.82</td>\n",
       "    </tr>\n",
       "    <tr>\n",
       "      <th>host_acceptance_rate</th>\n",
       "      <td>764</td>\n",
       "      <td>20.13</td>\n",
       "    </tr>\n",
       "    <tr>\n",
       "      <th>review_scores_accuracy</th>\n",
       "      <td>647</td>\n",
       "      <td>17.05</td>\n",
       "    </tr>\n",
       "    <tr>\n",
       "      <th>review_scores_checkin</th>\n",
       "      <td>647</td>\n",
       "      <td>17.05</td>\n",
       "    </tr>\n",
       "    <tr>\n",
       "      <th>review_scores_value</th>\n",
       "      <td>645</td>\n",
       "      <td>17.00</td>\n",
       "    </tr>\n",
       "    <tr>\n",
       "      <th>review_scores_location</th>\n",
       "      <td>644</td>\n",
       "      <td>16.97</td>\n",
       "    </tr>\n",
       "    <tr>\n",
       "      <th>review_scores_cleanliness</th>\n",
       "      <td>642</td>\n",
       "      <td>16.92</td>\n",
       "    </tr>\n",
       "    <tr>\n",
       "      <th>review_scores_communication</th>\n",
       "      <td>640</td>\n",
       "      <td>16.86</td>\n",
       "    </tr>\n",
       "    <tr>\n",
       "      <th>review_scores_rating</th>\n",
       "      <td>636</td>\n",
       "      <td>16.76</td>\n",
       "    </tr>\n",
       "    <tr>\n",
       "      <th>reviews_per_month</th>\n",
       "      <td>616</td>\n",
       "      <td>16.23</td>\n",
       "    </tr>\n",
       "    <tr>\n",
       "      <th>first_review</th>\n",
       "      <td>616</td>\n",
       "      <td>16.23</td>\n",
       "    </tr>\n",
       "    <tr>\n",
       "      <th>last_review</th>\n",
       "      <td>616</td>\n",
       "      <td>16.23</td>\n",
       "    </tr>\n",
       "    <tr>\n",
       "      <th>host_response_time</th>\n",
       "      <td>516</td>\n",
       "      <td>13.60</td>\n",
       "    </tr>\n",
       "    <tr>\n",
       "      <th>host_response_rate</th>\n",
       "      <td>516</td>\n",
       "      <td>13.60</td>\n",
       "    </tr>\n",
       "    <tr>\n",
       "      <th>neighbourhood</th>\n",
       "      <td>412</td>\n",
       "      <td>10.86</td>\n",
       "    </tr>\n",
       "    <tr>\n",
       "      <th>bathrooms</th>\n",
       "      <td>15</td>\n",
       "      <td>0.40</td>\n",
       "    </tr>\n",
       "  </tbody>\n",
       "</table>\n",
       "</div>"
      ],
      "text/plain": [
       "                             No. Nulls  Nulls [%]\n",
       "cleaning_fee                      1018      26.82\n",
       "host_acceptance_rate               764      20.13\n",
       "review_scores_accuracy             647      17.05\n",
       "review_scores_checkin              647      17.05\n",
       "review_scores_value                645      17.00\n",
       "review_scores_location             644      16.97\n",
       "review_scores_cleanliness          642      16.92\n",
       "review_scores_communication        640      16.86\n",
       "review_scores_rating               636      16.76\n",
       "reviews_per_month                  616      16.23\n",
       "first_review                       616      16.23\n",
       "last_review                        616      16.23\n",
       "host_response_time                 516      13.60\n",
       "host_response_rate                 516      13.60\n",
       "neighbourhood                      412      10.86\n",
       "bathrooms                           15       0.40"
      ]
     },
     "execution_count": 106,
     "metadata": {},
     "output_type": "execute_result"
    }
   ],
   "source": [
    "# Check missing data\n",
    "get_null_col(listings_filtered)"
   ]
  },
  {
   "cell_type": "code",
   "execution_count": 107,
   "metadata": {},
   "outputs": [],
   "source": [
    "# Dealing with numerical missing values columns \n",
    "numerical_missing_values = ['beds', 'bedrooms', 'bathrooms', 'host_response_time', 'host_response_rate', 'host_acceptance_rate', 'host_listings_count', 'cleaning_fee', 'review_scores_accuracy', 'review_scores_checkin', 'review_scores_value', 'review_scores_location','review_scores_cleanliness','review_scores_communication', 'review_scores_rating', 'reviews_per_month']\n",
    "mean_missing_values(listings_filtered, numerical_missing_values)"
   ]
  },
  {
   "cell_type": "code",
   "execution_count": 108,
   "metadata": {},
   "outputs": [],
   "source": [
    "# Dealing with categorical missing values columns \n",
    "categorical_missing_values = ['property_type', 'neighbourhood', 'first_review', 'last_review', 'host_since']\n",
    "mode_missing_values(listings_filtered, categorical_missing_values)"
   ]
  },
  {
   "cell_type": "code",
   "execution_count": 109,
   "metadata": {},
   "outputs": [
    {
     "name": "stdout",
     "output_type": "stream",
     "text": [
      "No missing data\n"
     ]
    }
   ],
   "source": [
    "# Check missing data\n",
    "get_null_col(listings_filtered)"
   ]
  },
  {
   "cell_type": "markdown",
   "metadata": {},
   "source": [
    "#### Exploratory analysis"
   ]
  },
  {
   "cell_type": "code",
   "execution_count": 115,
   "metadata": {},
   "outputs": [
    {
     "data": {
      "text/plain": [
       "count    3795.00\n",
       "mean      127.92\n",
       "std        90.27\n",
       "min        20.00\n",
       "25%        75.00\n",
       "50%       100.00\n",
       "75%       150.00\n",
       "max      1000.00\n",
       "Name: price, dtype: float64"
      ]
     },
     "execution_count": 115,
     "metadata": {},
     "output_type": "execute_result"
    }
   ],
   "source": [
    "# Price describe\n",
    "listings_filtered['price'].describe()"
   ]
  },
  {
   "cell_type": "code",
   "execution_count": 110,
   "metadata": {},
   "outputs": [
    {
     "data": {
      "image/png": "[encoded data removed]",
      "text/plain": [
       "<Figure size 600x300 with 1 Axes>"
      ]
     },
     "metadata": {},
     "output_type": "display_data"
    }
   ],
   "source": [
    "# Price Distribution\n",
    "plt.figure(figsize=(6, 3))\n",
    "sns.histplot(listings_filtered['price'], bins=50, kde=True, color=\"purple\")\n",
    "plt.title('Distribution of Listing Prices')\n",
    "plt.xlabel('Price ($)')\n",
    "plt.ylabel('Number of Listings')\n",
    "plt.tight_layout()\n",
    "plt.show()"
   ]
  },
  {
   "cell_type": "code",
   "execution_count": 111,
   "metadata": {},
   "outputs": [
    {
     "data": {
      "image/png": "[encoded data removed]",
      "text/plain": [
       "<Figure size 600x300 with 1 Axes>"
      ]
     },
     "metadata": {},
     "output_type": "display_data"
    }
   ],
   "source": [
    "# Average Price by Neighbourhood\n",
    "avg_price_by_neighbourhood = listings_filtered.groupby('neighbourhood')['price'].mean().sort_values(ascending=False).head(10)\n",
    "\n",
    "plt.figure(figsize=(6, 3))\n",
    "avg_price_by_neighbourhood.plot(kind='bar', color='purple')\n",
    "plt.title('Average Price by Neighbourhood')\n",
    "plt.xlabel('Neighbourhood')\n",
    "plt.ylabel('Average Price ($)')\n",
    "plt.xticks(rotation=45, ha='right')\n",
    "plt.tight_layout()\n",
    "plt.show()\n",
    "\n"
   ]
  },
  {
   "cell_type": "code",
   "execution_count": 112,
   "metadata": {},
   "outputs": [
    {
     "data": {
      "image/png": "[encoded data removed]",
      "text/plain": [
       "<Figure size 600x300 with 1 Axes>"
      ]
     },
     "metadata": {},
     "output_type": "display_data"
    }
   ],
   "source": [
    "# Average Price by Property Type\n",
    "avg_price_by_property = listings_filtered.groupby('property_type')['price'].mean().sort_values(ascending=False)\n",
    "\n",
    "plt.figure(figsize=(6, 3))\n",
    "avg_price_by_property.plot(kind='bar', color='purple')\n",
    "plt.title('Average Price by Property Type')\n",
    "plt.xlabel('Property Type')\n",
    "plt.ylabel('Average Price ($)')\n",
    "plt.xticks(rotation=45, ha='right')\n",
    "plt.tight_layout()\n",
    "plt.show()"
   ]
  },
  {
   "cell_type": "code",
   "execution_count": 113,
   "metadata": {},
   "outputs": [
    {
     "data": {
      "image/png": "[encoded data removed]",
      "text/plain": [
       "<Figure size 600x500 with 2 Axes>"
      ]
     },
     "metadata": {},
     "output_type": "display_data"
    }
   ],
   "source": [
    "# Select relevant numeric columns\n",
    "numeric_columns = listings_filtered.select_dtypes(include=['float64', 'int64'])\n",
    "\n",
    "# Calculate the correlation matrix\n",
    "corr_matrix = numeric_columns.corr()\n",
    "\n",
    "# Create the heatmap\n",
    "plt.figure(figsize=(6, 5))\n",
    "sns.heatmap(corr_matrix, annot=False, cmap='coolwarm', linewidths=0.5)\n",
    "plt.title('Correlation Heatmap')\n",
    "plt.tight_layout()\n",
    "plt.show()\n"
   ]
  },
  {
   "cell_type": "markdown",
   "metadata": {},
   "source": [
    "#### Analysis of Results\n",
    "\n",
    "- **Price Distribution**: The histogram shows that most listings are priced\n",
    "  around $100, with over 600 properties in this range. This suggests that $100\n",
    "  is a common price for Airbnb listings in Seattle, possibly indicating a\n",
    "  competitive and affordable market for most travelers.\n",
    "- **Prices by Neighborhood**: The results of the bar plot indicate that the most\n",
    "  expensive neighborhoods are Fairmount Park, standing out as one of the most\n",
    "  expensive areas to stay. This analysis can be useful in identifying premium\n",
    "  neighborhoods and helping homeowners adjust their prices based on location.\n",
    "- **Correlations between Variables**: The correlation matrix shows that there is\n",
    "  a high correlation between price and review-related variables (such as number\n",
    "  of reviews and review score). Significant correlations are also observed with\n",
    "  the number of bathrooms, beds, bedrooms, accommodation capacity and number of\n",
    "  guests included. This suggests that these factors are key determinants of\n",
    "  listing prices, with larger, better-reviewed properties tending to command\n",
    "  higher prices.\n",
    "\n",
    "The analyzes performed provide a clear view of the pricing dynamics in Airbnb\n",
    "listings in Seattle. Understanding the distribution of prices, the factors that\n",
    "affect them, and how they vary by property type and location can help homeowners\n",
    "make informed decisions about pricing and marketing strategies."
   ]
  },
  {
   "cell_type": "markdown",
   "metadata": {},
   "source": [
    "### Reviews Dataset"
   ]
  },
  {
   "cell_type": "code",
   "execution_count": null,
   "metadata": {},
   "outputs": [],
   "source": [
    "# Treatment of null values\n",
    "reviews_cleaned = drop_rows(df_reviews, 20)"
   ]
  },
  {
   "cell_type": "code",
   "execution_count": null,
   "metadata": {},
   "outputs": [],
   "source": [
    "# Treatment of null values\n",
    "reviews_cleaned = drop_cols(reviews_cleaned)"
   ]
  },
  {
   "cell_type": "code",
   "execution_count": null,
   "metadata": {},
   "outputs": [],
   "source": [
    "# Convert date column to datetime type\n",
    "transform_datetime(reviews_cleaned, [\"date\"])"
   ]
  },
  {
   "cell_type": "code",
   "execution_count": null,
   "metadata": {},
   "outputs": [],
   "source": [
    "# Clean text\n",
    "reviews_cleaned['comments'] = reviews_cleaned['comments'].apply(clean_text)"
   ]
  },
  {
   "cell_type": "markdown",
   "metadata": {},
   "source": [
    "#### Exploratory Analysis\n",
    "\n",
    "- **Q2. Evaluate customer satisfaction based on reviews**"
   ]
  },
  {
   "cell_type": "code",
   "execution_count": null,
   "metadata": {},
   "outputs": [],
   "source": [
    "# Date distribution of reviews\n",
    "plt.figure(figsize=(6, 3))\n",
    "reviews_cleaned['date'].hist(bins=50)\n",
    "plt.title('Distribution of Review Dates')\n",
    "plt.xlabel('Date')\n",
    "plt.ylabel('Frequency')\n",
    "plt.show()"
   ]
  },
  {
   "cell_type": "code",
   "execution_count": null,
   "metadata": {},
   "outputs": [],
   "source": [
    "# Analysis of the most frequent words in the reviews\n",
    "# Join all comments\n",
    "all_comments = ' '.join(reviews_cleaned['comments'].tolist())\n",
    "\n",
    "# Count the most frequent words\n",
    "word_counts = Counter(all_comments.split())\n",
    "common_words = word_counts.most_common(10)\n",
    "\n",
    "# Display the most frequent words\n",
    "common_words_df = pd.DataFrame(common_words, columns=['Word', 'Frequency'])\n",
    "plt.figure(figsize=(6, 3))\n",
    "sns.barplot(x='Word', y='Frequency', data=common_words_df, palette=\"viridis\")\n",
    "plt.title('Most Frequent Words in Reviews')\n",
    "plt.xticks(rotation=90)\n",
    "plt.show()"
   ]
  },
  {
   "cell_type": "code",
   "execution_count": null,
   "metadata": {},
   "outputs": [],
   "source": [
    "# Apply sentiment analysis\n",
    "reviews_cleaned[\"sentiment_vader\"] = reviews_cleaned[\"comments\"].apply(\n",
    "    get_sentiment_vader\n",
    ")\n",
    "\n",
    "# Categorize feelings as positive, negative or neutral\n",
    "reviews_cleaned[\"sentiment_category_vader\"] = reviews_cleaned[\n",
    "    \"sentiment_vader\"\n",
    "].apply(\n",
    "    lambda score: \"positive\"\n",
    "    if score > 0\n",
    "    else (\"negative\" if score < 0 else \"neutral\")\n",
    ")"
   ]
  },
  {
   "cell_type": "code",
   "execution_count": null,
   "metadata": {},
   "outputs": [],
   "source": [
    "# Count feelings using VADER\n",
    "sentiment_counts_vader = reviews_cleaned[\n",
    "    \"sentiment_category_vader\"\n",
    "].value_counts()\n",
    "\n",
    "# Calculate the proportion of each sentiment category\n",
    "sentiment_proportions_vader = (\n",
    "    sentiment_counts_vader / len(reviews_cleaned)\n",
    ") * 100\n",
    "\n",
    "reviews_cleaned.head(2)"
   ]
  },
  {
   "cell_type": "code",
   "execution_count": null,
   "metadata": {},
   "outputs": [],
   "source": [
    "# Graph the distribution of feelings\n",
    "plt.figure(figsize=(5, 5))\n",
    "sns.barplot(\n",
    "    x=sentiment_counts_vader.index,\n",
    "    y=sentiment_counts_vader.values,\n",
    "    palette=\"viridis\",\n",
    ")\n",
    "\n",
    "# Add proportion labels to each bar\n",
    "for i, proportion in enumerate(sentiment_proportions_vader):\n",
    "    plt.text(\n",
    "        i,\n",
    "        sentiment_counts_vader.values[i],\n",
    "        f\"{proportion:.2f}%\",\n",
    "        ha=\"center\",\n",
    "        va=\"bottom\",\n",
    "    )\n",
    "\n",
    "plt.title(\"Distribution of Feelings (VADER)\")\n",
    "plt.xlabel(\"Feeling\")\n",
    "plt.ylabel(\"Frequency\")\n",
    "plt.show()"
   ]
  },
  {
   "cell_type": "code",
   "execution_count": null,
   "metadata": {},
   "outputs": [],
   "source": [
    "feeling_comments(reviews_cleaned, \"positive\", 2)"
   ]
  },
  {
   "cell_type": "code",
   "execution_count": null,
   "metadata": {},
   "outputs": [],
   "source": [
    "feeling_comments(reviews_cleaned, \"negative\", 2)"
   ]
  },
  {
   "cell_type": "code",
   "execution_count": null,
   "metadata": {},
   "outputs": [],
   "source": [
    "feeling_comments(reviews_cleaned, \"neutral\", 2)"
   ]
  },
  {
   "cell_type": "markdown",
   "metadata": {},
   "source": [
    "#### Analysis of Results\n",
    "\n",
    "- **Review Volume**: The year 2016 had the highest number of user reviews,\n",
    "  indicating a significant level of engagement and feedback from customers\n",
    "  during that period.\n",
    "- **Commonly Used Words**: The most frequently used words in user reviews were\n",
    "  \"great,\" \"clean,\" \"location,\" and \"comfortable.\" These keywords suggest that\n",
    "  customers generally had positive experiences and appreciated the cleanliness,\n",
    "  location, and comfort of the accommodations.\n",
    "\n",
    "**Sentiment Analysis**:\n",
    "\n",
    "- Positive Reviews: 97.42% of the comments were positive, reflecting a high\n",
    "  level of customer satisfaction.\n",
    "- Neutral Reviews: 1.85% of the comments were neutral.\n",
    "- Negative Reviews: Only 0.73% of the comments were negative, indicating a very\n",
    "  low level of dissatisfaction among users.\n",
    "- *Language of Reviews: Some of the reviews classified as neutral or negative\n",
    "  were written in languages other than English. This language variation could\n",
    "  impact the accuracy of sentiment classification.*\n",
    "\n",
    "**Suggestion**: It is recommended to clean the data to include only comments\n",
    "written in English. This step would ensure more consistent and accurate\n",
    "sentiment analysis, leading to better insights into customer satisfaction.\n",
    "\n",
    "Overall, the analysis shows that customer satisfaction is overwhelmingly\n",
    "positive, with a few areas for improvement in handling multilingual reviews."
   ]
  },
  {
   "cell_type": "markdown",
   "metadata": {},
   "source": [
    "# 4. Data Modeling\n",
    "\n",
    "*Objective: Apply modeling techniques to identify patterns or predict values.*"
   ]
  },
  {
   "cell_type": "code",
   "execution_count": 173,
   "metadata": {},
   "outputs": [],
   "source": [
    "# Define the characteristics (X) and the objective (y)\n",
    "# X = numeric_columns\n",
    "X = listings_filtered[['accommodates', 'bathrooms', 'bedrooms', 'beds', 'guests_included', 'reviews_per_month','number_of_reviews','review_scores_rating','review_scores_accuracy','review_scores_cleanliness','review_scores_checkin','review_scores_communication','review_scores_location','review_scores_value', 'cleaning_fee', 'host_response_rate','host_acceptance_rate','host_is_superhost']]\n",
    "y = listings_filtered['price']\n",
    "\n",
    "# Split the dataset into training and validation sets\n",
    "X_train, X_valid, y_train, y_valid = train_test_split(X, y, test_size=0.3, random_state=42)"
   ]
  },
  {
   "cell_type": "code",
   "execution_count": 174,
   "metadata": {},
   "outputs": [
    {
     "data": {
      "text/html": [
       "<style>#sk-container-id-10 {color: black;background-color: white;}#sk-container-id-10 pre{padding: 0;}#sk-container-id-10 div.sk-toggleable {background-color: white;}#sk-container-id-10 label.sk-toggleable__label {cursor: pointer;display: block;width: 100%;margin-bottom: 0;padding: 0.3em;box-sizing: border-box;text-align: center;}#sk-container-id-10 label.sk-toggleable__label-arrow:before {content: \"▸\";float: left;margin-right: 0.25em;color: #696969;}#sk-container-id-10 label.sk-toggleable__label-arrow:hover:before {color: black;}#sk-container-id-10 div.sk-estimator:hover label.sk-toggleable__label-arrow:before {color: black;}#sk-container-id-10 div.sk-toggleable__content {max-height: 0;max-width: 0;overflow: hidden;text-align: left;background-color: #f0f8ff;}#sk-container-id-10 div.sk-toggleable__content pre {margin: 0.2em;color: black;border-radius: 0.25em;background-color: #f0f8ff;}#sk-container-id-10 input.sk-toggleable__control:checked~div.sk-toggleable__content {max-height: 200px;max-width: 100%;overflow: auto;}#sk-container-id-10 input.sk-toggleable__control:checked~label.sk-toggleable__label-arrow:before {content: \"▾\";}#sk-container-id-10 div.sk-estimator input.sk-toggleable__control:checked~label.sk-toggleable__label {background-color: #d4ebff;}#sk-container-id-10 div.sk-label input.sk-toggleable__control:checked~label.sk-toggleable__label {background-color: #d4ebff;}#sk-container-id-10 input.sk-hidden--visually {border: 0;clip: rect(1px 1px 1px 1px);clip: rect(1px, 1px, 1px, 1px);height: 1px;margin: -1px;overflow: hidden;padding: 0;position: absolute;width: 1px;}#sk-container-id-10 div.sk-estimator {font-family: monospace;background-color: #f0f8ff;border: 1px dotted black;border-radius: 0.25em;box-sizing: border-box;margin-bottom: 0.5em;}#sk-container-id-10 div.sk-estimator:hover {background-color: #d4ebff;}#sk-container-id-10 div.sk-parallel-item::after {content: \"\";width: 100%;border-bottom: 1px solid gray;flex-grow: 1;}#sk-container-id-10 div.sk-label:hover label.sk-toggleable__label {background-color: #d4ebff;}#sk-container-id-10 div.sk-serial::before {content: \"\";position: absolute;border-left: 1px solid gray;box-sizing: border-box;top: 0;bottom: 0;left: 50%;z-index: 0;}#sk-container-id-10 div.sk-serial {display: flex;flex-direction: column;align-items: center;background-color: white;padding-right: 0.2em;padding-left: 0.2em;position: relative;}#sk-container-id-10 div.sk-item {position: relative;z-index: 1;}#sk-container-id-10 div.sk-parallel {display: flex;align-items: stretch;justify-content: center;background-color: white;position: relative;}#sk-container-id-10 div.sk-item::before, #sk-container-id-10 div.sk-parallel-item::before {content: \"\";position: absolute;border-left: 1px solid gray;box-sizing: border-box;top: 0;bottom: 0;left: 50%;z-index: -1;}#sk-container-id-10 div.sk-parallel-item {display: flex;flex-direction: column;z-index: 1;position: relative;background-color: white;}#sk-container-id-10 div.sk-parallel-item:first-child::after {align-self: flex-end;width: 50%;}#sk-container-id-10 div.sk-parallel-item:last-child::after {align-self: flex-start;width: 50%;}#sk-container-id-10 div.sk-parallel-item:only-child::after {width: 0;}#sk-container-id-10 div.sk-dashed-wrapped {border: 1px dashed gray;margin: 0 0.4em 0.5em 0.4em;box-sizing: border-box;padding-bottom: 0.4em;background-color: white;}#sk-container-id-10 div.sk-label label {font-family: monospace;font-weight: bold;display: inline-block;line-height: 1.2em;}#sk-container-id-10 div.sk-label-container {text-align: center;}#sk-container-id-10 div.sk-container {/* jupyter's `normalize.less` sets `[hidden] { display: none; }` but bootstrap.min.css set `[hidden] { display: none !important; }` so we also need the `!important` here to be able to override the default hidden behavior on the sphinx rendered scikit-learn.org. See: https://github.com/scikit-learn/scikit-learn/issues/21755 */display: inline-block !important;position: relative;}#sk-container-id-10 div.sk-text-repr-fallback {display: none;}</style><div id=\"sk-container-id-10\" class=\"sk-top-container\"><div class=\"sk-text-repr-fallback\"><pre>LinearRegression()</pre><b>In a Jupyter environment, please rerun this cell to show the HTML representation or trust the notebook. <br />On GitHub, the HTML representation is unable to render, please try loading this page with nbviewer.org.</b></div><div class=\"sk-container\" hidden><div class=\"sk-item\"><div class=\"sk-estimator sk-toggleable\"><input class=\"sk-toggleable__control sk-hidden--visually\" id=\"sk-estimator-id-10\" type=\"checkbox\" checked><label for=\"sk-estimator-id-10\" class=\"sk-toggleable__label sk-toggleable__label-arrow\">LinearRegression</label><div class=\"sk-toggleable__content\"><pre>LinearRegression()</pre></div></div></div></div></div>"
      ],
      "text/plain": [
       "LinearRegression()"
      ]
     },
     "execution_count": 174,
     "metadata": {},
     "output_type": "execute_result"
    }
   ],
   "source": [
    "# We train the linear regression model\n",
    "model = LinearRegression()\n",
    "model.fit(X_train, y_train)"
   ]
  },
  {
   "cell_type": "code",
   "execution_count": 175,
   "metadata": {},
   "outputs": [],
   "source": [
    "# Predict on validation set\n",
    "y_pred = model.predict(X_valid)"
   ]
  },
  {
   "cell_type": "markdown",
   "metadata": {},
   "source": [
    "# 5. Evaluation\n",
    "\n",
    "*Objective: Evaluate the results of the model in terms of accuracy and usefulness for the business.*"
   ]
  },
  {
   "cell_type": "code",
   "execution_count": 176,
   "metadata": {},
   "outputs": [
    {
     "name": "stdout",
     "output_type": "stream",
     "text": [
      "Mean Squared Error (MSE): 3239.9372327865867\n",
      "Mean Absolute Error (MAE): 38.09052779964685\n",
      "R² Score: 0.5576846223142518\n"
     ]
    }
   ],
   "source": [
    "# Evaluate the model\n",
    "mse = mean_squared_error(y_valid, y_pred)\n",
    "mae = mean_absolute_error(y_valid, y_pred)\n",
    "r2 = r2_score(y_valid, y_pred)\n",
    "\n",
    "print(f\"Mean Squared Error (MSE): {mse}\")\n",
    "print(f\"Mean Absolute Error (MAE): {mae}\")\n",
    "print(f\"R² Score: {r2}\")"
   ]
  },
  {
   "cell_type": "code",
   "execution_count": 177,
   "metadata": {},
   "outputs": [
    {
     "data": {
      "image/png": "[encoded data removed]",
      "text/plain": [
       "<Figure size 600x300 with 1 Axes>"
      ]
     },
     "metadata": {},
     "output_type": "display_data"
    }
   ],
   "source": [
    "# View the results\n",
    "plt.figure(figsize=(6,3))\n",
    "plt.scatter(y_valid, y_pred, alpha=0.5, color='blue')\n",
    "plt.plot([y.min(), y.max()], [y.min(), y.max()], 'k--', lw=2)\n",
    "plt.xlabel('Actual')\n",
    "plt.ylabel('Predicted')\n",
    "plt.title('Actual vs Predicted Prices')\n",
    "plt.show()"
   ]
  },
  {
   "cell_type": "markdown",
   "metadata": {},
   "source": [
    "#### Analysis of Results\n",
    "\n",
    "- An MAE of 38.09 means that, on average, the model predictions are off from the\n",
    "  actual value by approximately $38.09. This is a more interpretable value and\n",
    "  less sensitive to outliers compared to the MSE. A reduction in the MAE\n",
    "  indicates that the model is improving in terms of absolute accuracy.\n",
    "- An R² of 0.558 indicates that approximately 55.8% of the variability in\n",
    "  property prices can be explained by the model. This suggests moderate to good\n",
    "  predictive ability.\n",
    "- Although the model has a reasonable level of predictive ability, an R² of\n",
    "  0.558 also suggests that there is 44.2% of the variability that is not being\n",
    "  captured by the model, indicating that some important features could be\n",
    "  missing or that the model is not complex enough to Capture all relationships\n",
    "  present in the data."
   ]
  },
  {
   "cell_type": "markdown",
   "metadata": {},
   "source": [
    "# 6. Deployment\n",
    "\n",
    "*Objective: Implement the solution so that it can be used by the business.*\n",
    "\n",
    "- Automate the data pipeline: \n",
    "  - Use scripts and tools to automate data collection, cleaning and analysis.\n",
    "- Deploy the model to production: \n",
    "  - Use cloud services such as AWS, GCP or Azure to deploy the model.\n",
    "  - Create an API so that other systems can access the model."
   ]
  },
  {
   "cell_type": "markdown",
   "metadata": {},
   "source": [
    "## Steps to Improve the Model\n",
    "\n",
    "- Explore more price-relevant features.\n",
    "- Test more complex models that can capture non-linear relationships.\n",
    "- Apply regularization techniques to improve the robustness of the model.\n",
    "- Perform an analysis and treatment of outliers.\n",
    "- Use cross-validation for a more robust evaluation."
   ]
  },
  {
   "cell_type": "markdown",
   "metadata": {},
   "source": []
  }
 ],
 "metadata": {
  "kernelspec": {
   "display_name": "Python 3",
   "language": "python",
   "name": "python3"
  },
  "language_info": {
   "codemirror_mode": {
    "name": "ipython",
    "version": 3
   },
   "file_extension": ".py",
   "mimetype": "text/x-python",
   "name": "python",
   "nbconvert_exporter": "python",
   "pygments_lexer": "ipython3",
   "version": "3.11.5"
  }
 },
 "nbformat": 4,
 "nbformat_minor": 2
}
